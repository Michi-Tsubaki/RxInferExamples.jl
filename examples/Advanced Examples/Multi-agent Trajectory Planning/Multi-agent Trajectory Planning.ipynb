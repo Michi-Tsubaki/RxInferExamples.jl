{
 "cells": [
  {
   "cell_type": "markdown",
   "id": "fde6c73a-7867-4c94-89fb-a5c936c8b1fb",
   "metadata": {},
   "source": [
    "# Multi-agent Trajectory Planning"
   ]
  },
  {
   "cell_type": "markdown",
   "id": "beb5ebe1-4853-4919-a6bd-bc0125eedfeb",
   "metadata": {},
   "source": [
    "These examples demonstrate the use of RxInfer for trajectory planning in multi-agent situations. The animations show the inferred trajectories from probabilistic inference.\n",
    "The examples shown in this notebook are based on https://github.com/biaslab/MultiAgentTrajectoryPlanning/blob/main/door.jl, modified by [Michi-Tsubaki](https://github.com/Michi-Tsubaki) to be compatible with RxInfer ver.4 syntax, and supplemented with additional explanatory comments.\n",
    "\n",
    "For more details, please refer to https://ieeexplore.ieee.org/document/10645034."
   ]
  },
  {
   "cell_type": "code",
   "execution_count": 2,
   "id": "418c8735-1722-4211-a97e-d9c3aa0a5245",
   "metadata": {},
   "outputs": [],
   "source": [
    "using LinearAlgebra, RxInfer, Plots, LogExpFunctions"
   ]
  },
  {
   "cell_type": "markdown",
   "id": "089378b9-52b0-4e56-aad4-7d8d6b69ae24",
   "metadata": {},
   "source": [
    "## Define utility functions"
   ]
  },
  {
   "cell_type": "code",
   "execution_count": 3,
   "id": "8c042257-baec-429d-9784-06d0c8183d83",
   "metadata": {},
   "outputs": [],
   "source": [
    "begin\n",
    "    \n",
    "\tReactiveMP.constrain_form(pmconstraint::RxInfer.PointMassFormConstraint, distribution::MultivariateNormalDistributionsFamily) = mean(distribution) \n",
    "\n",
    "\tReactiveMP.prod(::GenericProd, left::Distribution, right::PointMass{Float64}) = right\n",
    "\n",
    "\tsoftmin(x; l=10) = -logsumexp(-l .* x)/l\t\n",
    "\n",
    "\tstruct Rectangle\n",
    "\t\tcenter\n",
    "\t\theight\n",
    "\t\twidth\n",
    "\tend\n",
    "\n",
    "\tfunction distance(r::Rectangle, x) \n",
    "\t\tif abs(x[1] - r.center[1]) > r.width/2 || abs(x[2] - r.center[2]) > r.height/2\n",
    "\t\t\t# outside of rectangle\n",
    "\t\t\tdx = max(abs(x[1] - r.center[1]) - r.width / 2, 0);\n",
    "\t\t\tdy = max(abs(x[2] - r.center[2]) - r.height / 2, 0)\n",
    "\t\t\treturn sqrt(dx^2 + dy^2)\n",
    "\t\telse\n",
    "\t\t\t# inside rectangle\n",
    "\t\t\treturn max(abs(x[1] - r.center[1]) - r.width/2, abs(x[2] - r.center[2]) - r.height/2)\n",
    "\t\tend\n",
    "\tend\n",
    "\n",
    "\tdistance(env::Tuple, x) = softmin([distance(item, x) for item in env])\n",
    "\t\n",
    "\tfunction draw_circle!(center, radius; kwargs...)\n",
    "\t\tθ = range(0, 2π, 100)\n",
    "\t\tplot!(center[1] .+ radius .* cos.(θ), center[2] .+ radius .* sin.(θ); kwargs...)\n",
    "\tend\n",
    "\n",
    "\tfunction draw_rectangle!(r::Rectangle; kwargs...)\n",
    "\t\tplot!(Shape(r.center[1] .+ r.width/2*[-1,1,1,-1], r.center[2] .+ r.height/2 * [-1,-1, 1, 1]); kwargs...)\n",
    "\tend\n",
    "\n",
    "end;"
   ]
  },
  {
   "cell_type": "markdown",
   "id": "d4223ea9-3f1f-4c15-a40e-beff86b5524e",
   "metadata": {},
   "source": [
    "## Problem sketch"
   ]
  },
  {
   "cell_type": "markdown",
   "id": "c5921402-af6c-4942-bd1a-60bf3ca02bbb",
   "metadata": {},
   "source": [
    "   This problem involves four agents navigating through a \"door\" - a narrow passage between two walls without colliding with each other.\n",
    "In this scenario, the challenges include:\n",
    "\n",
    "- **Spatial constraints:** Agents must pass through a limited space (the doorway)\n",
    "- **Collision avoidance:** The four agents must avoid colliding with each other\n",
    "- **Wall avoidance: Agents** must not hit the walls on either side\n",
    "- **Efficient pathfinding:** Each agent should reach its destination as efficiently as possible\n",
    "\n",
    "Using probabilistic inference, this approach represents each agent's movement as a probability distribution and infers optimal trajectories while considering the positions of other agents. The concept of halfspaces is used to probabilistically represent constraints like \"don't go beyond the wall.\"\n",
    "\n",
    "In this simulation, RxInfer uses Bayesian inference to calculate trajectories for each agent, with the results displayed as animations in the section below."
   ]
  },
  {
   "cell_type": "code",
   "execution_count": 5,
   "id": "82a314b4-4c3f-4f70-b3b4-b5f96f2a6c44",
   "metadata": {},
   "outputs": [],
   "source": [
    "begin\n",
    "\tgoals = hcat([\n",
    "\t\t# agent 1: start at (5,-15) with 0 velocity, end at (-5,15) with 0 velocity\n",
    "\t\t[\n",
    "\t\t\t[5, 0, -15, 0],\n",
    "\t\t\t[-5, 0, 15, 0]\n",
    "\t\t], \n",
    "\t\t# agent 2: start at (-5,-15) with 0 velocity, end at (5,15) with 0 velocity\n",
    "\t\t[\n",
    "\t\t\t[-5, 0, -15, 0],\n",
    "\t\t\t[5, 0, 15, 0]\n",
    "\t\t],\n",
    "\t\t# agent 3: start at (-5,15) with 0 velocity, end at (5,-15) with 0 velocity\n",
    "\t\t[\n",
    "\t\t\t[-5, 0, 15, 0],\n",
    "\t\t\t[5, 0, -15, 0]\n",
    "\t\t],\n",
    "\t\t# agent 4: start at (5,15) with 0 velocity, end at (-5,-15) with 0 velocity\n",
    "\t\t[\n",
    "\t\t\t[5, 0, 15, 0],\n",
    "\t\t\t[-5, 0, -15, 0]\n",
    "\t\t]\n",
    "\t]...)\n",
    "\tradius = 2.5\n",
    "\tenvironment = (\n",
    "\t\tRectangle([-40, 0], 5, 70),\n",
    "\t\tRectangle([40, 0], 5, 70)\n",
    "\t)\n",
    "end;\n"
   ]
  },
  {
   "cell_type": "code",
   "execution_count": null,
   "id": "3ac43cd9-5376-4895-8ff1-508bdb74dfc2",
   "metadata": {},
   "outputs": [],
   "source": [
    "begin\n",
    "\tplot(size = (600, 600))\n",
    "\n",
    "\tscatter!([goals[2,1][1]], [goals[2,1][3]], color=\"red\", label=\"\", marker=:star5, markersize=10)\n",
    "\tscatter!([goals[2,2][1]], [goals[2,2][3]], color=\"blue\", label=\"\", marker=:star5, markersize=10)\n",
    "\tscatter!([goals[2,3][1]], [goals[2,3][3]], color=\"orange\", label=\"\", marker=:star5, markersize=10)\n",
    "\tscatter!([goals[2,4][1]], [goals[2,4][3]], color=\"green\", label=\"\", marker=:star5, markersize=10)\n",
    "\t\n",
    "\tdraw_circle!([goals[1,1][1], goals[1,1][3]], radius; color=\"red\", label=\"\")\n",
    "\tdraw_circle!([goals[1,2][1], goals[1,2][3]], radius; color=\"blue\", label=\"\")\n",
    "\tdraw_circle!([goals[1,3][1], goals[1,3][3]], radius; color=\"orange\", label=\"\")\n",
    "\tdraw_circle!([goals[1,4][1], goals[1,4][3]], radius; color=\"green\", label=\"\")\n",
    "\n",
    "\tdraw_rectangle!(environment[1]; label=\"\", color=\"black\", alpha=0.5)\n",
    "\tdraw_rectangle!(environment[2]; label=\"\", color=\"black\", alpha=0.5)\n",
    "\n",
    "\txlims!(-20, 20)\n",
    "\tylims!(-20, 20)\n",
    "end"
   ]
  },
  {
   "cell_type": "markdown",
   "id": "4e37b59a-de81-433b-aebc-39ccd6071c44",
   "metadata": {},
   "source": [
    "## Halfspace prior implementation"
   ]
  },
  {
   "cell_type": "code",
   "execution_count": 7,
   "id": "d44cd022-21c9-456e-ac66-546af566a96e",
   "metadata": {},
   "outputs": [],
   "source": [
    "# Define the probabilistic model for obstacles using halfspace constraints\n",
    "begin\n",
    "\n",
    "\t# node specification\n",
    "\tstruct Halfspace end\n",
    "\t@node Halfspace Stochastic [out, a, σ2, γ]\n",
    "\n",
    "\t# rule specification\n",
    "\t@rule Halfspace(:out, Marginalisation) (q_a::PointMass, q_σ2::PointMass, q_γ::PointMass) = begin\n",
    "\t\treturn NormalMeanVariance(mean(q_a) + mean(q_γ) * mean(q_σ2), mean(q_σ2))\n",
    "\tend\n",
    "\n",
    "\t@rule Halfspace(:σ2, Marginalisation) (q_out::UnivariateNormalDistributionsFamily, q_a::PointMass, q_γ::PointMass, ) = begin\n",
    "\t\treturn PointMass( 1 / mean(q_γ) * sqrt(abs2(mean(q_out) - mean(q_a)) + var(q_out)))\n",
    "\tend\n",
    "\t\n",
    "end"
   ]
  },
  {
   "cell_type": "markdown",
   "id": "cd665182-cbd3-4745-9f4e-6db794f6f8bc",
   "metadata": {},
   "source": [
    "## Model specification"
   ]
  },
  {
   "cell_type": "code",
   "execution_count": 8,
   "id": "837ba87a-3bcb-486f-85c5-e71b456683a5",
   "metadata": {},
   "outputs": [],
   "source": [
    "function g(y; r = radius)\n",
    "\treturn distance(environment, y) - r\n",
    "end;"
   ]
  },
  {
   "cell_type": "code",
   "execution_count": 9,
   "id": "00794eb0-9929-46a4-a2c2-b3ba9ee50207",
   "metadata": {},
   "outputs": [],
   "source": [
    "function h(y1, y2, y3, y4; r = radius)\n",
    "\treturn softmin([\n",
    "\t\tnorm(y1 - y2) - 2*r,\n",
    "\t\tnorm(y1 - y3) - 2*r,\n",
    "\t\tnorm(y1 - y4) - 2*r,\n",
    "\t\tnorm(y2 - y3) - 2*r,\n",
    "\t\tnorm(y2 - y4) - 2*r,\n",
    "\t\tnorm(y3 - y4) - 2*r,\n",
    "\t])\n",
    "end;"
   ]
  },
  {
   "cell_type": "code",
   "execution_count": 10,
   "id": "62944f65-f654-4153-902f-8bd286ca6376",
   "metadata": {},
   "outputs": [],
   "source": [
    "# Define model\n",
    "@model function door_model(nr_steps, γ, A, B, C, goals)\n",
    "\n",
    "\tlocal y\n",
    "\t\n",
    "\t# single agent models\n",
    "\tfor k in 1:4\n",
    "\n",
    "\t\t# prior on state\n",
    "\t\tx[k,1] ~ MvNormalMeanCovariance(zeros(4), 1e2I)\n",
    "\t\n",
    "\t\tfor t in 1:nr_steps\n",
    "\t\t\t\n",
    "\t\t\t# prior on controls\n",
    "\t\t\tu[k,t] ~ MvNormalMeanCovariance(zeros(2), 1e-1I)\n",
    "\t\n",
    "\t\t\t# state transition\n",
    "\t\t\tx[k,t+1] ~ A * x[k,t] + B * u[k,t]\n",
    "\t\n",
    "\t\t\t# observation model\n",
    "\t\t\ty[k,t] ~ C * x[k,t+1]\n",
    "\n",
    "\t\t\t# environmental distance\n",
    "\t\t\tzσ2[k,t] ~ GammaShapeRate(3/2, γ^2/2)\n",
    "\t\t\tz[k,t] ~ g(y[k,t])\n",
    "\t\t\tz[k,t] ~ Halfspace(0, zσ2[k,t], γ)\n",
    "\n",
    "\t\tend\n",
    "\n",
    "\t\t# goal priors (indexing reverse due to definition)\n",
    "\t\tgoals[1,k] ~ MvNormalMeanCovariance(x[k,1], 1e-5I)\n",
    "\t\tgoals[2,k] ~ MvNormalMeanCovariance(x[k,nr_steps + 1], 1e-5I)\n",
    "\t\t\n",
    "\tend\n",
    "\n",
    "\tfor t = 1:nr_steps\n",
    "\n",
    "\t\t# observation constraint\n",
    "\t\tdσ2[t] ~ GammaShapeRate(3/2, γ^2/2)\n",
    "\t\td[t] ~ h(y[1,t], y[2,t], y[3,t], y[4,t])\n",
    "\t\td[t] ~ Halfspace(0, dσ2[t], γ)\n",
    "\t\t\n",
    "\tend\n",
    "\t\n",
    "end;"
   ]
  },
  {
   "cell_type": "markdown",
   "id": "a7b0732c-20fc-4fa2-9763-d26646b1c06a",
   "metadata": {},
   "source": [
    "## Constraint specification"
   ]
  },
  {
   "cell_type": "code",
   "execution_count": 11,
   "id": "9b2d98f7-f4ec-4d95-b907-80d8a2a470a3",
   "metadata": {},
   "outputs": [],
   "source": [
    "@constraints function door_constraints()\n",
    "\tq(d, dσ2) = q(d)q(dσ2)\n",
    "\tq(z, zσ2) = q(z)q(zσ2)\n",
    "end;"
   ]
  },
  {
   "cell_type": "markdown",
   "id": "b66da6f8-8095-47af-8cc2-190ceeb25e5c",
   "metadata": {},
   "source": [
    "## Probabilistic inference\n",
    "### Settings"
   ]
  },
  {
   "cell_type": "code",
   "execution_count": 12,
   "id": "2473f075-2614-4d26-9dc1-8cc32e62645e",
   "metadata": {},
   "outputs": [],
   "source": [
    "# Define meta model\n",
    "door_meta = @meta begin \n",
    "    h() -> Linearization(),\n",
    "\tg() -> Linearization()\n",
    "end;"
   ]
  },
  {
   "cell_type": "code",
   "execution_count": null,
   "id": "dcd5f4f7-0fc2-4c99-8742-a41f2501ea3a",
   "metadata": {},
   "outputs": [],
   "source": [
    "nr_steps = 50"
   ]
  },
  {
   "cell_type": "code",
   "execution_count": null,
   "id": "70a478a8-01b6-4457-ad1c-0cb090a45ab0",
   "metadata": {},
   "outputs": [],
   "source": [
    "nr_iterations = 1500"
   ]
  },
  {
   "cell_type": "code",
   "execution_count": 15,
   "id": "b1a6c07b-5408-4c31-8f26-f90aad1d3d84",
   "metadata": {},
   "outputs": [],
   "source": [
    "# Define constant variables\n",
    "begin\n",
    "\tΔT = 1\n",
    "\tA = [1 ΔT 0 0; \n",
    "\t\t0 1 0 0; \n",
    "\t\t0 0 1 ΔT; \n",
    "\t\t0 0 0 1]\n",
    "\tB = [0 0; \n",
    "\t\tΔT 0; \n",
    "\t\t0 0; \n",
    "\t\t0 ΔT]\n",
    "\tC = [1 0 0 0; \n",
    "\t\t0 0 1 0]\n",
    "\tγ = 1\n",
    "end;"
   ]
  },
  {
   "cell_type": "code",
   "execution_count": null,
   "id": "4e02415e-bbde-4487-9c48-9a42d331b377",
   "metadata": {},
   "outputs": [],
   "source": [
    "# Initialize variables\n",
    "init = @initialization begin\n",
    "\n",
    "    q(dσ2) = repeat([PointMass(1)], nr_steps)\n",
    "    q(zσ2) = repeat([PointMass(1)], 4, nr_steps)\n",
    "    q(u) = repeat([PointMass(0)], nr_steps)\n",
    "\n",
    "\tμ(x) = MvNormalMeanCovariance(randn(4), 100I)\n",
    "\tμ(y) = MvNormalMeanCovariance(randn(2), 100I)\n",
    "\n",
    "end"
   ]
  },
  {
   "cell_type": "markdown",
   "id": "32818ec1-331a-4da6-a6a1-0f97a889b580",
   "metadata": {},
   "source": [
    "> **Note:** In RxInfer version 2, constants were specified using constvar or as keyword arguments in model functions, but in RxInfer versions 3 and 4, they are specified as arguments outside the function.\n",
    "Also, in RxInfer version 2, variables were initialized inside the inference function, but now we use the initialization macro instead."
   ]
  },
  {
   "cell_type": "markdown",
   "id": "6f27cfd8-a150-4862-abc6-883fae630827",
   "metadata": {},
   "source": [
    "### Inference"
   ]
  },
  {
   "cell_type": "code",
   "execution_count": null,
   "id": "62654829-afbd-4572-9597-d6c6964379ba",
   "metadata": {},
   "outputs": [],
   "source": [
    "results = infer(\n",
    "\tmodel \t\t\t= door_model(nr_steps = nr_steps, γ = γ, A = A, B = B, C = C),\n",
    "\tdata  \t\t\t= ( goals = goals, ),\n",
    "\tinitialization  = init,\n",
    "\tconstraints \t= door_constraints(),\n",
    "\tmeta \t\t\t= door_meta,\n",
    "\titerations \t\t= nr_iterations,\n",
    "\treturnvars \t\t= KeepLast(), \n",
    "\toptions = ( limit_stack_depth = 300, )\n",
    ")"
   ]
  },
  {
   "cell_type": "markdown",
   "id": "6f3675c7-a326-433b-b42a-3cd28a10edd0",
   "metadata": {},
   "source": [
    "> **Note:** The syntax of this infer function (function name and initialization method) differs between RxInfer version 2 and 4. See http://docs.rxinfer.ml/stable/manuals/migration-guide-v2-v3/ ."
   ]
  },
  {
   "cell_type": "markdown",
   "id": "d4c7029a-e23a-4f9c-a533-56b3d5bdc747",
   "metadata": {},
   "source": [
    "## Results\n",
    "\n",
    "This section shows the results of inference."
   ]
  },
  {
   "cell_type": "code",
   "execution_count": null,
   "id": "e6f72c55-fa9f-4c72-bd31-d412672de0df",
   "metadata": {},
   "outputs": [],
   "source": [
    "animation = @animate for t in 1:nr_steps\n",
    "\tplot(size = (0.8*600, 600), legend=false)\n",
    "\n",
    "\tplot!(\n",
    "\t\tmap(x -> mean(x)[1], results.posteriors[:y][1,1:t]),\n",
    "\t\tmap(x -> mean(x)[2], results.posteriors[:y][1,1:t]);\n",
    "\t\tcolor=\"red\", linestyle=:dash\n",
    "\t)\n",
    "\tplot!(\n",
    "\t\tmap(x -> mean(x)[1], results.posteriors[:y][2,1:t]),\n",
    "\t\tmap(x -> mean(x)[2], results.posteriors[:y][2,1:t]);\n",
    "\t\tcolor=\"blue\", linestyle=:dash\n",
    "\t)\n",
    "\tplot!(\n",
    "\t\tmap(x -> mean(x)[1], results.posteriors[:y][3,1:t]),\n",
    "\t\tmap(x -> mean(x)[2], results.posteriors[:y][3,1:t]);\n",
    "\t\tcolor=\"orange\", linestyle=:dash\n",
    "\t)\n",
    "\tplot!(\n",
    "\t\tmap(x -> mean(x)[1], results.posteriors[:y][4,1:t]),\n",
    "\t\tmap(x -> mean(x)[2], results.posteriors[:y][4,1:t]);\n",
    "\t\tcolor=\"green\", linestyle=:dash\n",
    "\t)\n",
    "\n",
    "\tdraw_circle!(mean(results.posteriors[:y][1,t]), radius; color=\"red\", label=\"\")\n",
    "\tdraw_circle!(mean(results.posteriors[:y][2,t]), radius; color=\"blue\", label=\"\")\n",
    "\tdraw_circle!(mean(results.posteriors[:y][3,t]), radius; color=\"orange\", label=\"\")\n",
    "\tdraw_circle!(mean(results.posteriors[:y][4,t]), radius; color=\"green\", label=\"\")\n",
    "\n",
    "\tdraw_rectangle!(environment[1]; label=\"\", color=\"black\", alpha=0.5)\n",
    "\tdraw_rectangle!(environment[2]; label=\"\", color=\"black\", alpha=0.5)\n",
    "\n",
    "\tscatter!([goals[2,1][1]], [goals[2,1][3]], color=\"red\", label=\"\", marker=:star5, markersize=10)\n",
    "\tscatter!([goals[2,2][1]], [goals[2,2][3]], color=\"blue\", label=\"\", marker=:star5, markersize=10)\n",
    "\tscatter!([goals[2,3][1]], [goals[2,3][3]], color=\"orange\", label=\"\", marker=:star5, markersize=10)\n",
    "\tscatter!([goals[2,4][1]], [goals[2,4][3]], color=\"green\", label=\"\", marker=:star5, markersize=10)\n",
    "\t\n",
    "\txlims!(-20, 20)\n",
    "\tylims!(-25, 25)\n",
    "\t\t\n",
    "end\n",
    "\n",
    "# assign the path to save the image\n",
    "gif(animation, \"result.gif\", fps = 15);"
   ]
  },
  {
   "cell_type": "markdown",
   "id": "8f8206b8",
   "metadata": {},
   "source": [
    "![](result.gif)"
   ]
  }
 ],
 "metadata": {
  "kernelspec": {
   "display_name": "Julia 1.11.3",
   "language": "julia",
   "name": "julia-1.11"
  },
  "language_info": {
   "file_extension": ".jl",
   "mimetype": "application/julia",
   "name": "julia",
   "version": "1.11.3"
  }
 },
 "nbformat": 4,
 "nbformat_minor": 5
}
