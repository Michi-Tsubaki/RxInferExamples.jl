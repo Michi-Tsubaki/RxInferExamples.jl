{
 "cells": [
  {
   "cell_type": "markdown",
   "id": "fde6c73a-7867-4c94-89fb-a5c936c8b1fb",
   "metadata": {},
   "source": [
    "# Multi-agent Trajectory Planning"
   ]
  },
  {
   "cell_type": "markdown",
   "id": "beb5ebe1-4853-4919-a6bd-bc0125eedfeb",
   "metadata": {},
   "source": [
    "These examples demonstrate the use of RxInfer for trajectory planning in multi-agent situations. The animations show the inferred trajectories from probabilistic inference.\n",
    "The examples shown in this notebook are based on https://github.com/biaslab/MultiAgentTrajectoryPlanning/blob/main/door.jl, modified by [Michi-Tsubaki](https://github.com/Michi-Tsubaki) to be compatible with RxInfer ver.4 syntax, and supplemented with additional explanatory comments.\n",
    "\n",
    "For more details, please refer to https://ieeexplore.ieee.org/document/10645034."
   ]
  },
  {
   "cell_type": "code",
   "execution_count": 1,
   "id": "418c8735-1722-4211-a97e-d9c3aa0a5245",
   "metadata": {},
   "outputs": [],
   "source": [
    "using LinearAlgebra, RxInfer, Plots, LogExpFunctions"
   ]
  },
  {
   "cell_type": "markdown",
   "id": "089378b9-52b0-4e56-aad4-7d8d6b69ae24",
   "metadata": {},
   "source": [
    "## Define utility functions"
   ]
  },
  {
   "cell_type": "code",
   "execution_count": 2,
   "id": "8c042257-baec-429d-9784-06d0c8183d83",
   "metadata": {},
   "outputs": [],
   "source": [
    "begin\n",
    "    \n",
    "\tReactiveMP.constrain_form(pmconstraint::RxInfer.PointMassFormConstraint, distribution::MultivariateNormalDistributionsFamily) = mean(distribution) \n",
    "\n",
    "\tReactiveMP.prod(::GenericProd, left::Distribution, right::PointMass{Float64}) = right\n",
    "\n",
    "\tsoftmin(x; l=10) = -logsumexp(-l .* x)/l\t\n",
    "\n",
    "\tstruct Rectangle\n",
    "\t\tcenter\n",
    "\t\theight\n",
    "\t\twidth\n",
    "\tend\n",
    "\n",
    "\tfunction distance(r::Rectangle, x) \n",
    "\t\tif abs(x[1] - r.center[1]) > r.width/2 || abs(x[2] - r.center[2]) > r.height/2\n",
    "\t\t\t# outside of rectangle\n",
    "\t\t\tdx = max(abs(x[1] - r.center[1]) - r.width / 2, 0);\n",
    "\t\t\tdy = max(abs(x[2] - r.center[2]) - r.height / 2, 0)\n",
    "\t\t\treturn sqrt(dx^2 + dy^2)\n",
    "\t\telse\n",
    "\t\t\t# inside rectangle\n",
    "\t\t\treturn max(abs(x[1] - r.center[1]) - r.width/2, abs(x[2] - r.center[2]) - r.height/2)\n",
    "\t\tend\n",
    "\tend\n",
    "\n",
    "\tdistance(env::Tuple, x) = softmin([distance(item, x) for item in env])\n",
    "\t\n",
    "\tfunction draw_circle!(center, radius; kwargs...)\n",
    "\t\tθ = range(0, 2π, 100)\n",
    "\t\tplot!(center[1] .+ radius .* cos.(θ), center[2] .+ radius .* sin.(θ); kwargs...)\n",
    "\tend\n",
    "\n",
    "\tfunction draw_rectangle!(r::Rectangle; kwargs...)\n",
    "\t\tplot!(Shape(r.center[1] .+ r.width/2*[-1,1,1,-1], r.center[2] .+ r.height/2 * [-1,-1, 1, 1]); kwargs...)\n",
    "\tend\n",
    "\n",
    "end;"
   ]
  },
  {
   "cell_type": "markdown",
   "id": "d4223ea9-3f1f-4c15-a40e-beff86b5524e",
   "metadata": {},
   "source": [
    "## Problem sketch"
   ]
  },
  {
   "cell_type": "markdown",
   "id": "c5921402-af6c-4942-bd1a-60bf3ca02bbb",
   "metadata": {},
   "source": [
    "   This problem involves four agents navigating through a \"door\" - a narrow passage between two walls without colliding with each other.\n",
    "In this scenario, the challenges include:\n",
    "\n",
    "- **Spatial constraints:** Agents must pass through a limited space (the doorway)\n",
    "- **Collision avoidance:** The four agents must avoid colliding with each other\n",
    "- **Wall avoidance: Agents** must not hit the walls on either side\n",
    "- **Efficient pathfinding:** Each agent should reach its destination as efficiently as possible\n",
    "\n",
    "Using probabilistic inference, this approach represents each agent's movement as a probability distribution and infers optimal trajectories while considering the positions of other agents. The concept of halfspaces is used to probabilistically represent constraints like \"don't go beyond the wall.\"\n",
    "\n",
    "In this simulation, RxInfer uses Bayesian inference to calculate trajectories for each agent, with the results displayed as animations in the section below."
   ]
  },
  {
   "cell_type": "code",
   "execution_count": 3,
   "id": "82a314b4-4c3f-4f70-b3b4-b5f96f2a6c44",
   "metadata": {},
   "outputs": [],
   "source": [
    "begin\n",
    "\tgoals = hcat([\n",
    "\t\t# agent 1: start at (5,-15) with 0 velocity, end at (-5,15) with 0 velocity\n",
    "\t\t[\n",
    "\t\t\t[5, 0, -15, 0],\n",
    "\t\t\t[-5, 0, 15, 0]\n",
    "\t\t], \n",
    "\t\t# agent 2: start at (-5,-15) with 0 velocity, end at (5,15) with 0 velocity\n",
    "\t\t[\n",
    "\t\t\t[-5, 0, -15, 0],\n",
    "\t\t\t[5, 0, 15, 0]\n",
    "\t\t],\n",
    "\t\t# agent 3: start at (-5,15) with 0 velocity, end at (5,-15) with 0 velocity\n",
    "\t\t[\n",
    "\t\t\t[-5, 0, 15, 0],\n",
    "\t\t\t[5, 0, -15, 0]\n",
    "\t\t],\n",
    "\t\t# agent 4: start at (5,15) with 0 velocity, end at (-5,-15) with 0 velocity\n",
    "\t\t[\n",
    "\t\t\t[5, 0, 15, 0],\n",
    "\t\t\t[-5, 0, -15, 0]\n",
    "\t\t]\n",
    "\t]...)\n",
    "\tradius = 2.5\n",
    "\tenvironment = (\n",
    "\t\tRectangle([-40, 0], 5, 70),\n",
    "\t\tRectangle([40, 0], 5, 70)\n",
    "\t)\n",
    "end;\n"
   ]
  },
  {
   "cell_type": "code",
   "execution_count": 4,
   "id": "3ac43cd9-5376-4895-8ff1-508bdb74dfc2",
   "metadata": {},
   "outputs": [
    {
     "data": {
      "image/png": "[encoded data removed]",
      "image/svg+xml": [
       "<?xml version=\"1.0\" encoding=\"utf-8\"?>\n",
       "<svg xmlns=\"http://www.w3.org/2000/svg\" xmlns:xlink=\"http://www.w3.org/1999/xlink\" width=\"600\" height=\"600\" viewBox=\"0 0 2400 2400\">\n",
       "<defs>\n",
       "  <clipPath id=\"clip190\">\n",
       "    <rect x=\"0\" y=\"0\" width=\"2400\" height=\"2400\"/>\n",
       "  </clipPath>\n",
       "</defs>\n",
       "<path clip-path=\"url(#clip190)\" d=\"M0 2400 L2400 2400 L2400 0 L0 0  Z\" fill=\"#ffffff\" fill-rule=\"evenodd\" fill-opacity=\"1\"/>\n",
       "<defs>\n",
       "  <clipPath id=\"clip191\">\n",
       "    <rect x=\"480\" y=\"239\" width=\"1681\" height=\"1681\"/>\n",
       "  </clipPath>\n",
       "</defs>\n",
       "<path clip-path=\"url(#clip190)\" d=\"M178.867 2261.17 L2352.76 2261.17 L2352.76 47.2441 L178.867 47.2441  Z\" fill=\"#ffffff\" fill-rule=\"evenodd\" fill-opacity=\"1\"/>\n",
       "<defs>\n",
       "  <clipPath id=\"clip192\">\n",
       "    <rect x=\"178\" y=\"47\" width=\"2175\" height=\"2215\"/>\n",
       "  </clipPath>\n",
       "</defs>\n",
       "<polyline clip-path=\"url(#clip192)\" style=\"stroke:#000000; stroke-linecap:round; stroke-linejoin:round; stroke-width:2; stroke-opacity:0.1; fill:none\" points=\"178.867,2261.17 178.867,47.2441 \"/>\n",
       "<polyline clip-path=\"url(#clip192)\" style=\"stroke:#000000; stroke-linecap:round; stroke-linejoin:round; stroke-width:2; stroke-opacity:0.1; fill:none\" points=\"722.339,2261.17 722.339,47.2441 \"/>\n",
       "<polyline clip-path=\"url(#clip192)\" style=\"stroke:#000000; stroke-linecap:round; stroke-linejoin:round; stroke-width:2; stroke-opacity:0.1; fill:none\" points=\"1265.81,2261.17 1265.81,47.2441 \"/>\n",
       "<polyline clip-path=\"url(#clip192)\" style=\"stroke:#000000; stroke-linecap:round; stroke-linejoin:round; stroke-width:2; stroke-opacity:0.1; fill:none\" points=\"1809.28,2261.17 1809.28,47.2441 \"/>\n",
       "<polyline clip-path=\"url(#clip192)\" style=\"stroke:#000000; stroke-linecap:round; stroke-linejoin:round; stroke-width:2; stroke-opacity:0.1; fill:none\" points=\"2352.76,2261.17 2352.76,47.2441 \"/>\n",
       "<polyline clip-path=\"url(#clip192)\" style=\"stroke:#000000; stroke-linecap:round; stroke-linejoin:round; stroke-width:2; stroke-opacity:0.1; fill:none\" points=\"178.867,2261.17 2352.76,2261.17 \"/>\n",
       "<polyline clip-path=\"url(#clip192)\" style=\"stroke:#000000; stroke-linecap:round; stroke-linejoin:round; stroke-width:2; stroke-opacity:0.1; fill:none\" points=\"178.867,1707.69 2352.76,1707.69 \"/>\n",
       "<polyline clip-path=\"url(#clip192)\" style=\"stroke:#000000; stroke-linecap:round; stroke-linejoin:round; stroke-width:2; stroke-opacity:0.1; fill:none\" points=\"178.867,1154.21 2352.76,1154.21 \"/>\n",
       "<polyline clip-path=\"url(#clip192)\" style=\"stroke:#000000; stroke-linecap:round; stroke-linejoin:round; stroke-width:2; stroke-opacity:0.1; fill:none\" points=\"178.867,600.725 2352.76,600.725 \"/>\n",
       "<polyline clip-path=\"url(#clip192)\" style=\"stroke:#000000; stroke-linecap:round; stroke-linejoin:round; stroke-width:2; stroke-opacity:0.1; fill:none\" points=\"178.867,47.2441 2352.76,47.2441 \"/>\n",
       "<polyline clip-path=\"url(#clip190)\" style=\"stroke:#000000; stroke-linecap:round; stroke-linejoin:round; stroke-width:4; stroke-opacity:1; fill:none\" points=\"178.867,2261.17 2352.76,2261.17 \"/>\n",
       "<polyline clip-path=\"url(#clip190)\" style=\"stroke:#000000; stroke-linecap:round; stroke-linejoin:round; stroke-width:4; stroke-opacity:1; fill:none\" points=\"178.867,2261.17 178.867,2242.27 \"/>\n",
       "<polyline clip-path=\"url(#clip190)\" style=\"stroke:#000000; stroke-linecap:round; stroke-linejoin:round; stroke-width:4; stroke-opacity:1; fill:none\" points=\"722.339,2261.17 722.339,2242.27 \"/>\n",
       "<polyline clip-path=\"url(#clip190)\" style=\"stroke:#000000; stroke-linecap:round; stroke-linejoin:round; stroke-width:4; stroke-opacity:1; fill:none\" points=\"1265.81,2261.17 1265.81,2242.27 \"/>\n",
       "<polyline clip-path=\"url(#clip190)\" style=\"stroke:#000000; stroke-linecap:round; stroke-linejoin:round; stroke-width:4; stroke-opacity:1; fill:none\" points=\"1809.28,2261.17 1809.28,2242.27 \"/>\n",
       "<polyline clip-path=\"url(#clip190)\" style=\"stroke:#000000; stroke-linecap:round; stroke-linejoin:round; stroke-width:4; stroke-opacity:1; fill:none\" points=\"2352.76,2261.17 2352.76,2242.27 \"/>\n",
       "<path clip-path=\"url(#clip190)\" d=\"M132.929 2306.74 L162.605 2306.74 L162.605 2310.67 L132.929 2310.67 L132.929 2306.74 Z\" fill=\"#000000\" fill-rule=\"nonzero\" fill-opacity=\"1\" /><path clip-path=\"url(#clip190)\" d=\"M176.725 2319.63 L193.045 2319.63 L193.045 2323.57 L171.1 2323.57 L171.1 2319.63 Q173.762 2316.88 178.346 2312.25 Q182.952 2307.6 184.133 2306.25 Q186.378 2303.73 187.258 2301.99 Q188.161 2300.23 188.161 2298.54 Q188.161 2295.79 186.216 2294.05 Q184.295 2292.32 181.193 2292.32 Q178.994 2292.32 176.54 2293.08 Q174.11 2293.85 171.332 2295.4 L171.332 2290.67 Q174.156 2289.54 176.61 2288.96 Q179.063 2288.38 181.1 2288.38 Q186.471 2288.38 189.665 2291.07 Q192.86 2293.75 192.86 2298.24 Q192.86 2300.37 192.049 2302.29 Q191.262 2304.19 189.156 2306.79 Q188.577 2307.46 185.475 2310.67 Q182.374 2313.87 176.725 2319.63 Z\" fill=\"#000000\" fill-rule=\"nonzero\" fill-opacity=\"1\" /><path clip-path=\"url(#clip190)\" d=\"M212.86 2292.09 Q209.248 2292.09 207.42 2295.65 Q205.614 2299.19 205.614 2306.32 Q205.614 2313.43 207.42 2316.99 Q209.248 2320.54 212.86 2320.54 Q216.494 2320.54 218.299 2316.99 Q220.128 2313.43 220.128 2306.32 Q220.128 2299.19 218.299 2295.65 Q216.494 2292.09 212.86 2292.09 M212.86 2288.38 Q218.67 2288.38 221.725 2292.99 Q224.804 2297.57 224.804 2306.32 Q224.804 2315.05 221.725 2319.66 Q218.67 2324.24 212.86 2324.24 Q207.049 2324.24 203.971 2319.66 Q200.915 2315.05 200.915 2306.32 Q200.915 2297.57 203.971 2292.99 Q207.049 2288.38 212.86 2288.38 Z\" fill=\"#000000\" fill-rule=\"nonzero\" fill-opacity=\"1\" /><path clip-path=\"url(#clip190)\" d=\"M676.402 2306.74 L706.077 2306.74 L706.077 2310.67 L676.402 2310.67 L676.402 2306.74 Z\" fill=\"#000000\" fill-rule=\"nonzero\" fill-opacity=\"1\" /><path clip-path=\"url(#clip190)\" d=\"M716.98 2319.63 L724.619 2319.63 L724.619 2293.27 L716.309 2294.93 L716.309 2290.67 L724.573 2289.01 L729.249 2289.01 L729.249 2319.63 L736.887 2319.63 L736.887 2323.57 L716.98 2323.57 L716.98 2319.63 Z\" fill=\"#000000\" fill-rule=\"nonzero\" fill-opacity=\"1\" /><path clip-path=\"url(#clip190)\" d=\"M756.332 2292.09 Q752.721 2292.09 750.892 2295.65 Q749.086 2299.19 749.086 2306.32 Q749.086 2313.43 750.892 2316.99 Q752.721 2320.54 756.332 2320.54 Q759.966 2320.54 761.772 2316.99 Q763.6 2313.43 763.6 2306.32 Q763.6 2299.19 761.772 2295.65 Q759.966 2292.09 756.332 2292.09 M756.332 2288.38 Q762.142 2288.38 765.198 2292.99 Q768.276 2297.57 768.276 2306.32 Q768.276 2315.05 765.198 2319.66 Q762.142 2324.24 756.332 2324.24 Q750.522 2324.24 747.443 2319.66 Q744.387 2315.05 744.387 2306.32 Q744.387 2297.57 747.443 2292.99 Q750.522 2288.38 756.332 2288.38 Z\" fill=\"#000000\" fill-rule=\"nonzero\" fill-opacity=\"1\" /><path clip-path=\"url(#clip190)\" d=\"M1265.81 2292.09 Q1262.2 2292.09 1260.37 2295.65 Q1258.57 2299.19 1258.57 2306.32 Q1258.57 2313.43 1260.37 2316.99 Q1262.2 2320.54 1265.81 2320.54 Q1269.45 2320.54 1271.25 2316.99 Q1273.08 2313.43 1273.08 2306.32 Q1273.08 2299.19 1271.25 2295.65 Q1269.45 2292.09 1265.81 2292.09 M1265.81 2288.38 Q1271.62 2288.38 1274.68 2292.99 Q1277.76 2297.57 1277.76 2306.32 Q1277.76 2315.05 1274.68 2319.66 Q1271.62 2324.24 1265.81 2324.24 Q1260 2324.24 1256.92 2319.66 Q1253.87 2315.05 1253.87 2306.32 Q1253.87 2297.57 1256.92 2292.99 Q1260 2288.38 1265.81 2288.38 Z\" fill=\"#000000\" fill-rule=\"nonzero\" fill-opacity=\"1\" /><path clip-path=\"url(#clip190)\" d=\"M1783.97 2319.63 L1791.61 2319.63 L1791.61 2293.27 L1783.3 2294.93 L1783.3 2290.67 L1791.56 2289.01 L1796.24 2289.01 L1796.24 2319.63 L1803.88 2319.63 L1803.88 2323.57 L1783.97 2323.57 L1783.97 2319.63 Z\" fill=\"#000000\" fill-rule=\"nonzero\" fill-opacity=\"1\" /><path clip-path=\"url(#clip190)\" d=\"M1823.32 2292.09 Q1819.71 2292.09 1817.88 2295.65 Q1816.08 2299.19 1816.08 2306.32 Q1816.08 2313.43 1817.88 2316.99 Q1819.71 2320.54 1823.32 2320.54 Q1826.96 2320.54 1828.76 2316.99 Q1830.59 2313.43 1830.59 2306.32 Q1830.59 2299.19 1828.76 2295.65 Q1826.96 2292.09 1823.32 2292.09 M1823.32 2288.38 Q1829.13 2288.38 1832.19 2292.99 Q1835.27 2297.57 1835.27 2306.32 Q1835.27 2315.05 1832.19 2319.66 Q1829.13 2324.24 1823.32 2324.24 Q1817.51 2324.24 1814.43 2319.66 Q1811.38 2315.05 1811.38 2306.32 Q1811.38 2297.57 1814.43 2292.99 Q1817.51 2288.38 1823.32 2288.38 Z\" fill=\"#000000\" fill-rule=\"nonzero\" fill-opacity=\"1\" /><path clip-path=\"url(#clip190)\" d=\"M2331.53 2319.63 L2347.85 2319.63 L2347.85 2323.57 L2325.9 2323.57 L2325.9 2319.63 Q2328.57 2316.88 2333.15 2312.25 Q2337.76 2307.6 2338.94 2306.25 Q2341.18 2303.73 2342.06 2301.99 Q2342.96 2300.23 2342.96 2298.54 Q2342.96 2295.79 2341.02 2294.05 Q2339.1 2292.32 2336 2292.32 Q2333.8 2292.32 2331.34 2293.08 Q2328.91 2293.85 2326.14 2295.4 L2326.14 2290.67 Q2328.96 2289.54 2331.41 2288.96 Q2333.87 2288.38 2335.9 2288.38 Q2341.27 2288.38 2344.47 2291.07 Q2347.66 2293.75 2347.66 2298.24 Q2347.66 2300.37 2346.85 2302.29 Q2346.07 2304.19 2343.96 2306.79 Q2343.38 2307.46 2340.28 2310.67 Q2337.18 2313.87 2331.53 2319.63 Z\" fill=\"#000000\" fill-rule=\"nonzero\" fill-opacity=\"1\" /><path clip-path=\"url(#clip190)\" d=\"M2367.66 2292.09 Q2364.05 2292.09 2362.22 2295.65 Q2360.42 2299.19 2360.42 2306.32 Q2360.42 2313.43 2362.22 2316.99 Q2364.05 2320.54 2367.66 2320.54 Q2371.3 2320.54 2373.1 2316.99 Q2374.93 2313.43 2374.93 2306.32 Q2374.93 2299.19 2373.1 2295.65 Q2371.3 2292.09 2367.66 2292.09 M2367.66 2288.38 Q2373.47 2288.38 2376.53 2292.99 Q2379.61 2297.57 2379.61 2306.32 Q2379.61 2315.05 2376.53 2319.66 Q2373.47 2324.24 2367.66 2324.24 Q2361.85 2324.24 2358.77 2319.66 Q2355.72 2315.05 2355.72 2306.32 Q2355.72 2297.57 2358.77 2292.99 Q2361.85 2288.38 2367.66 2288.38 Z\" fill=\"#000000\" fill-rule=\"nonzero\" fill-opacity=\"1\" /><polyline clip-path=\"url(#clip190)\" style=\"stroke:#000000; stroke-linecap:round; stroke-linejoin:round; stroke-width:4; stroke-opacity:1; fill:none\" points=\"178.867,2261.17 178.867,47.2441 \"/>\n",
       "<polyline clip-path=\"url(#clip190)\" style=\"stroke:#000000; stroke-linecap:round; stroke-linejoin:round; stroke-width:4; stroke-opacity:1; fill:none\" points=\"178.867,2261.17 197.764,2261.17 \"/>\n",
       "<polyline clip-path=\"url(#clip190)\" style=\"stroke:#000000; stroke-linecap:round; stroke-linejoin:round; stroke-width:4; stroke-opacity:1; fill:none\" points=\"178.867,1707.69 197.764,1707.69 \"/>\n",
       "<polyline clip-path=\"url(#clip190)\" style=\"stroke:#000000; stroke-linecap:round; stroke-linejoin:round; stroke-width:4; stroke-opacity:1; fill:none\" points=\"178.867,1154.21 197.764,1154.21 \"/>\n",
       "<polyline clip-path=\"url(#clip190)\" style=\"stroke:#000000; stroke-linecap:round; stroke-linejoin:round; stroke-width:4; stroke-opacity:1; fill:none\" points=\"178.867,600.725 197.764,600.725 \"/>\n",
       "<polyline clip-path=\"url(#clip190)\" style=\"stroke:#000000; stroke-linecap:round; stroke-linejoin:round; stroke-width:4; stroke-opacity:1; fill:none\" points=\"178.867,47.2441 197.764,47.2441 \"/>\n",
       "<path clip-path=\"url(#clip190)\" d=\"M50.9921 2261.62 L80.6679 2261.62 L80.6679 2265.55 L50.9921 2265.55 L50.9921 2261.62 Z\" fill=\"#000000\" fill-rule=\"nonzero\" fill-opacity=\"1\" /><path clip-path=\"url(#clip190)\" d=\"M94.7882 2274.51 L111.108 2274.51 L111.108 2278.45 L89.1632 2278.45 L89.1632 2274.51 Q91.8252 2271.76 96.4085 2267.13 Q101.015 2262.48 102.196 2261.13 Q104.441 2258.61 105.321 2256.87 Q106.223 2255.11 106.223 2253.42 Q106.223 2250.67 104.279 2248.93 Q102.358 2247.2 99.2558 2247.2 Q97.0567 2247.2 94.603 2247.96 Q92.1725 2248.73 89.3947 2250.28 L89.3947 2245.55 Q92.2188 2244.42 94.6724 2243.84 Q97.1261 2243.26 99.1632 2243.26 Q104.534 2243.26 107.728 2245.95 Q110.922 2248.63 110.922 2253.12 Q110.922 2255.25 110.112 2257.17 Q109.325 2259.07 107.219 2261.67 Q106.64 2262.34 103.538 2265.55 Q100.436 2268.75 94.7882 2274.51 Z\" fill=\"#000000\" fill-rule=\"nonzero\" fill-opacity=\"1\" /><path clip-path=\"url(#clip190)\" d=\"M130.922 2246.97 Q127.311 2246.97 125.482 2250.53 Q123.677 2254.07 123.677 2261.2 Q123.677 2268.31 125.482 2271.87 Q127.311 2275.42 130.922 2275.42 Q134.556 2275.42 136.362 2271.87 Q138.191 2268.31 138.191 2261.2 Q138.191 2254.07 136.362 2250.53 Q134.556 2246.97 130.922 2246.97 M130.922 2243.26 Q136.732 2243.26 139.788 2247.87 Q142.867 2252.45 142.867 2261.2 Q142.867 2269.93 139.788 2274.54 Q136.732 2279.12 130.922 2279.12 Q125.112 2279.12 122.033 2274.54 Q118.978 2269.93 118.978 2261.2 Q118.978 2252.45 122.033 2247.87 Q125.112 2243.26 130.922 2243.26 Z\" fill=\"#000000\" fill-rule=\"nonzero\" fill-opacity=\"1\" /><path clip-path=\"url(#clip190)\" d=\"M50.9921 1708.14 L80.6679 1708.14 L80.6679 1712.07 L50.9921 1712.07 L50.9921 1708.14 Z\" fill=\"#000000\" fill-rule=\"nonzero\" fill-opacity=\"1\" /><path clip-path=\"url(#clip190)\" d=\"M91.5706 1721.03 L99.2095 1721.03 L99.2095 1694.67 L90.8993 1696.33 L90.8993 1692.07 L99.1632 1690.41 L103.839 1690.41 L103.839 1721.03 L111.478 1721.03 L111.478 1724.97 L91.5706 1724.97 L91.5706 1721.03 Z\" fill=\"#000000\" fill-rule=\"nonzero\" fill-opacity=\"1\" /><path clip-path=\"url(#clip190)\" d=\"M130.922 1693.49 Q127.311 1693.49 125.482 1697.05 Q123.677 1700.59 123.677 1707.72 Q123.677 1714.83 125.482 1718.39 Q127.311 1721.93 130.922 1721.93 Q134.556 1721.93 136.362 1718.39 Q138.191 1714.83 138.191 1707.72 Q138.191 1700.59 136.362 1697.05 Q134.556 1693.49 130.922 1693.49 M130.922 1689.78 Q136.732 1689.78 139.788 1694.39 Q142.867 1698.97 142.867 1707.72 Q142.867 1716.45 139.788 1721.05 Q136.732 1725.64 130.922 1725.64 Q125.112 1725.64 122.033 1721.05 Q118.978 1716.45 118.978 1707.72 Q118.978 1698.97 122.033 1694.39 Q125.112 1689.78 130.922 1689.78 Z\" fill=\"#000000\" fill-rule=\"nonzero\" fill-opacity=\"1\" /><path clip-path=\"url(#clip190)\" d=\"M130.922 1140 Q127.311 1140 125.482 1143.57 Q123.677 1147.11 123.677 1154.24 Q123.677 1161.35 125.482 1164.91 Q127.311 1168.45 130.922 1168.45 Q134.556 1168.45 136.362 1164.91 Q138.191 1161.35 138.191 1154.24 Q138.191 1147.11 136.362 1143.57 Q134.556 1140 130.922 1140 M130.922 1136.3 Q136.732 1136.3 139.788 1140.91 Q142.867 1145.49 142.867 1154.24 Q142.867 1162.97 139.788 1167.57 Q136.732 1172.16 130.922 1172.16 Q125.112 1172.16 122.033 1167.57 Q118.978 1162.97 118.978 1154.24 Q118.978 1145.49 122.033 1140.91 Q125.112 1136.3 130.922 1136.3 Z\" fill=\"#000000\" fill-rule=\"nonzero\" fill-opacity=\"1\" /><path clip-path=\"url(#clip190)\" d=\"M91.5706 614.07 L99.2095 614.07 L99.2095 587.704 L90.8993 589.371 L90.8993 585.112 L99.1632 583.445 L103.839 583.445 L103.839 614.07 L111.478 614.07 L111.478 618.005 L91.5706 618.005 L91.5706 614.07 Z\" fill=\"#000000\" fill-rule=\"nonzero\" fill-opacity=\"1\" /><path clip-path=\"url(#clip190)\" d=\"M130.922 586.524 Q127.311 586.524 125.482 590.089 Q123.677 593.63 123.677 600.76 Q123.677 607.866 125.482 611.431 Q127.311 614.973 130.922 614.973 Q134.556 614.973 136.362 611.431 Q138.191 607.866 138.191 600.76 Q138.191 593.63 136.362 590.089 Q134.556 586.524 130.922 586.524 M130.922 582.82 Q136.732 582.82 139.788 587.426 Q142.867 592.01 142.867 600.76 Q142.867 609.487 139.788 614.093 Q136.732 618.676 130.922 618.676 Q125.112 618.676 122.033 614.093 Q118.978 609.487 118.978 600.76 Q118.978 592.01 122.033 587.426 Q125.112 582.82 130.922 582.82 Z\" fill=\"#000000\" fill-rule=\"nonzero\" fill-opacity=\"1\" /><path clip-path=\"url(#clip190)\" d=\"M94.7882 60.5889 L111.108 60.5889 L111.108 64.5241 L89.1632 64.5241 L89.1632 60.5889 Q91.8252 57.8343 96.4085 53.2047 Q101.015 48.552 102.196 47.2094 Q104.441 44.6862 105.321 42.9501 Q106.223 41.1909 106.223 39.5011 Q106.223 36.7465 104.279 35.0104 Q102.358 33.2743 99.2558 33.2743 Q97.0567 33.2743 94.603 34.0381 Q92.1725 34.802 89.3947 36.3529 L89.3947 31.6308 Q92.2188 30.4965 94.6724 29.9178 Q97.1261 29.3391 99.1632 29.3391 Q104.534 29.3391 107.728 32.0243 Q110.922 34.7094 110.922 39.2002 Q110.922 41.3298 110.112 43.2511 Q109.325 45.1492 107.219 47.7418 Q106.64 48.4131 103.538 51.6306 Q100.436 54.8251 94.7882 60.5889 Z\" fill=\"#000000\" fill-rule=\"nonzero\" fill-opacity=\"1\" /><path clip-path=\"url(#clip190)\" d=\"M130.922 33.0428 Q127.311 33.0428 125.482 36.6076 Q123.677 40.1492 123.677 47.2788 Q123.677 54.3853 125.482 57.9501 Q127.311 61.4917 130.922 61.4917 Q134.556 61.4917 136.362 57.9501 Q138.191 54.3853 138.191 47.2788 Q138.191 40.1492 136.362 36.6076 Q134.556 33.0428 130.922 33.0428 M130.922 29.3391 Q136.732 29.3391 139.788 33.9456 Q142.867 38.5289 142.867 47.2788 Q142.867 56.0056 139.788 60.6121 Q136.732 65.1954 130.922 65.1954 Q125.112 65.1954 122.033 60.6121 Q118.978 56.0056 118.978 47.2788 Q118.978 38.5289 122.033 33.9456 Q125.112 29.3391 130.922 29.3391 Z\" fill=\"#000000\" fill-rule=\"nonzero\" fill-opacity=\"1\" /><path clip-path=\"url(#clip192)\" d=\"M994.075 283.985 L984.675 311.025 L956.035 311.625 L978.875 328.945 L970.555 356.345 L994.075 339.985 L1017.6 356.345 L1009.28 328.945 L1032.12 311.625 L1003.48 311.025 L994.075 283.985 Z\" fill=\"#ff0000\" fill-rule=\"evenodd\" fill-opacity=\"1\" stroke=\"#000000\" stroke-opacity=\"1\" stroke-width=\"4.8\"/>\n",
       "<path clip-path=\"url(#clip192)\" d=\"M1537.55 283.985 L1528.15 311.025 L1499.51 311.625 L1522.35 328.945 L1514.03 356.345 L1537.55 339.985 L1561.07 356.345 L1552.75 328.945 L1575.59 311.625 L1546.95 311.025 L1537.55 283.985 Z\" fill=\"#0000ff\" fill-rule=\"evenodd\" fill-opacity=\"1\" stroke=\"#000000\" stroke-opacity=\"1\" stroke-width=\"4.8\"/>\n",
       "<path clip-path=\"url(#clip192)\" d=\"M1537.55 1944.43 L1528.15 1971.47 L1499.51 1972.07 L1522.35 1989.39 L1514.03 2016.79 L1537.55 2000.43 L1561.07 2016.79 L1552.75 1989.39 L1575.59 1972.07 L1546.95 1971.47 L1537.55 1944.43 Z\" fill=\"#ffa500\" fill-rule=\"evenodd\" fill-opacity=\"1\" stroke=\"#000000\" stroke-opacity=\"1\" stroke-width=\"4.8\"/>\n",
       "<path clip-path=\"url(#clip192)\" d=\"M994.075 1944.43 L984.675 1971.47 L956.035 1972.07 L978.875 1989.39 L970.555 2016.79 L994.075 2000.43 L1017.6 2016.79 L1009.28 1989.39 L1032.12 1972.07 L1003.48 1971.47 L994.075 1944.43 Z\" fill=\"#008000\" fill-rule=\"evenodd\" fill-opacity=\"1\" stroke=\"#000000\" stroke-opacity=\"1\" stroke-width=\"4.8\"/>\n",
       "<polyline clip-path=\"url(#clip192)\" style=\"stroke:#ff0000; stroke-linecap:round; stroke-linejoin:round; stroke-width:4; stroke-opacity:1; fill:none\" points=\"1673.42,1984.43 1673.14,1975.65 1672.32,1966.91 1670.96,1958.24 1669.06,1949.68 1666.63,1941.25 1663.68,1933 1660.23,1924.96 1656.28,1917.15 1651.85,1909.62 1646.96,1902.39 1641.63,1895.48 1635.88,1888.94 1629.74,1882.78 1623.22,1877.03 1616.36,1871.71 1609.18,1866.85 1601.71,1862.46 1593.99,1858.56 1586.04,1855.17 1577.89,1852.3 1569.58,1849.96 1561.14,1848.16 1552.61,1846.91 1544.01,1846.21 1535.39,1846.07 1526.78,1846.49 1518.21,1847.47 1509.72,1848.99 1501.34,1851.06 1493.11,1853.67 1485.06,1856.8 1477.21,1860.45 1469.61,1864.6 1462.29,1869.22 1455.26,1874.32 1448.57,1879.85 1442.24,1885.81 1436.29,1892.17 1430.75,1898.89 1425.64,1905.96 1420.97,1913.35 1416.78,1921.02 1413.08,1928.95 1409.87,1937.1 1407.18,1945.44 1405.02,1953.94 1403.39,1962.56 1402.29,1971.27 1401.75,1980.04 1401.75,1988.82 1402.29,1997.58 1403.39,2006.29 1405.02,2014.91 1407.18,2023.41 1409.87,2031.75 1413.08,2039.9 1416.78,2047.83 1420.97,2055.51 1425.64,2062.89 1430.75,2069.96 1436.29,2076.69 1442.24,2083.04 1448.57,2089 1455.26,2094.54 1462.29,2099.63 1469.61,2104.26 1477.21,2108.41 1485.06,2112.05 1493.11,2115.19 1501.34,2117.79 1509.72,2119.86 1518.21,2121.39 1526.78,2122.36 1535.39,2122.78 1544.01,2122.64 1552.61,2121.95 1561.14,2120.7 1569.58,2118.9 1577.89,2116.56 1586.04,2113.69 1593.99,2110.29 1601.71,2106.39 1609.18,2102 1616.36,2097.14 1623.22,2091.82 1629.74,2086.07 1635.88,2079.91 1641.63,2073.37 1646.96,2066.47 1651.85,2059.24 1656.28,2051.7 1660.23,2043.9 1663.68,2035.85 1666.63,2027.6 1669.06,2019.18 1670.96,2010.61 1672.32,2001.94 1673.14,1993.2 1673.42,1984.43 \"/>\n",
       "<polyline clip-path=\"url(#clip192)\" style=\"stroke:#0000ff; stroke-linecap:round; stroke-linejoin:round; stroke-width:4; stroke-opacity:1; fill:none\" points=\"1129.94,1984.43 1129.67,1975.65 1128.85,1966.91 1127.49,1958.24 1125.59,1949.68 1123.16,1941.25 1120.21,1933 1116.75,1924.96 1112.8,1917.15 1108.37,1909.62 1103.49,1902.39 1098.16,1895.48 1092.41,1888.94 1086.26,1882.78 1079.75,1877.03 1072.89,1871.71 1065.71,1866.85 1058.24,1862.46 1050.52,1858.56 1042.56,1855.17 1034.42,1852.3 1026.11,1849.96 1017.67,1848.16 1009.13,1846.91 1000.54,1846.21 991.919,1846.07 983.308,1846.49 974.739,1847.47 966.248,1848.99 957.87,1851.06 949.637,1853.67 941.583,1856.8 933.741,1860.45 926.141,1864.6 918.815,1869.22 911.792,1874.32 905.1,1879.85 898.767,1885.81 892.817,1892.17 887.276,1898.89 882.164,1905.96 877.503,1913.35 873.311,1921.02 869.605,1928.95 866.401,1937.1 863.711,1945.44 861.545,1953.94 859.914,1962.56 858.822,1971.27 858.275,1980.04 858.275,1988.82 858.822,1997.58 859.914,2006.29 861.545,2014.91 863.711,2023.41 866.401,2031.75 869.605,2039.9 873.311,2047.83 877.503,2055.51 882.164,2062.89 887.276,2069.96 892.817,2076.69 898.767,2083.04 905.1,2089 911.792,2094.54 918.815,2099.63 926.141,2104.26 933.741,2108.41 941.583,2112.05 949.637,2115.19 957.87,2117.79 966.248,2119.86 974.739,2121.39 983.308,2122.36 991.919,2122.78 1000.54,2122.64 1009.13,2121.95 1017.67,2120.7 1026.11,2118.9 1034.42,2116.56 1042.56,2113.69 1050.52,2110.29 1058.24,2106.39 1065.71,2102 1072.89,2097.14 1079.75,2091.82 1086.26,2086.07 1092.41,2079.91 1098.16,2073.37 1103.49,2066.47 1108.37,2059.24 1112.8,2051.7 1116.75,2043.9 1120.21,2035.85 1123.16,2027.6 1125.59,2019.18 1127.49,2010.61 1128.85,2001.94 1129.67,1993.2 1129.94,1984.43 \"/>\n",
       "<polyline clip-path=\"url(#clip192)\" style=\"stroke:#ffa500; stroke-linecap:round; stroke-linejoin:round; stroke-width:4; stroke-opacity:1; fill:none\" points=\"1129.94,323.985 1129.67,315.209 1128.85,306.468 1127.49,297.798 1125.59,289.233 1123.16,280.808 1120.21,272.558 1116.75,264.514 1112.8,256.709 1108.37,249.176 1103.49,241.944 1098.16,235.042 1092.41,228.498 1086.26,222.339 1079.75,216.589 1072.89,211.272 1065.71,206.408 1058.24,202.018 1050.52,198.119 1042.56,194.726 1034.42,191.855 1026.11,189.515 1017.67,187.716 1009.13,186.467 1000.54,185.771 991.919,185.632 983.308,186.05 974.739,187.023 966.248,188.547 957.87,190.617 949.637,193.225 941.583,196.358 933.741,200.006 926.141,204.152 918.815,208.782 911.792,213.875 905.1,219.411 898.767,225.369 892.817,231.724 887.276,238.45 882.164,245.52 877.503,252.907 873.311,260.58 869.605,268.508 866.401,276.659 863.711,285.001 861.545,293.5 859.914,302.122 858.822,310.832 858.275,319.594 858.275,328.375 858.822,337.137 859.914,345.847 861.545,354.469 863.711,362.968 866.401,371.31 869.605,379.461 873.311,387.389 877.503,395.062 882.164,402.449 887.276,409.519 892.817,416.246 898.767,422.6 905.1,428.558 911.792,434.094 918.815,439.187 926.141,443.817 933.741,447.963 941.583,451.611 949.637,454.745 957.87,457.352 966.248,459.422 974.739,460.946 983.308,461.92 991.919,462.337 1000.54,462.198 1009.13,461.502 1017.67,460.253 1026.11,458.454 1034.42,456.115 1042.56,453.243 1050.52,449.851 1058.24,445.951 1065.71,441.561 1072.89,436.698 1079.75,431.38 1086.26,425.63 1092.41,419.471 1098.16,412.927 1103.49,406.025 1108.37,398.793 1112.8,391.26 1116.75,383.455 1120.21,375.412 1123.16,367.161 1125.59,358.736 1127.49,350.171 1128.85,341.501 1129.67,332.761 1129.94,323.985 \"/>\n",
       "<polyline clip-path=\"url(#clip192)\" style=\"stroke:#008000; stroke-linecap:round; stroke-linejoin:round; stroke-width:4; stroke-opacity:1; fill:none\" points=\"1673.42,323.985 1673.14,315.209 1672.32,306.468 1670.96,297.798 1669.06,289.233 1666.63,280.808 1663.68,272.558 1660.23,264.514 1656.28,256.709 1651.85,249.176 1646.96,241.944 1641.63,235.042 1635.88,228.498 1629.74,222.339 1623.22,216.589 1616.36,211.272 1609.18,206.408 1601.71,202.018 1593.99,198.119 1586.04,194.726 1577.89,191.855 1569.58,189.515 1561.14,187.716 1552.61,186.467 1544.01,185.771 1535.39,185.632 1526.78,186.05 1518.21,187.023 1509.72,188.547 1501.34,190.617 1493.11,193.225 1485.06,196.358 1477.21,200.006 1469.61,204.152 1462.29,208.782 1455.26,213.875 1448.57,219.411 1442.24,225.369 1436.29,231.724 1430.75,238.45 1425.64,245.52 1420.97,252.907 1416.78,260.58 1413.08,268.508 1409.87,276.659 1407.18,285.001 1405.02,293.5 1403.39,302.122 1402.29,310.832 1401.75,319.594 1401.75,328.375 1402.29,337.137 1403.39,345.847 1405.02,354.469 1407.18,362.968 1409.87,371.31 1413.08,379.461 1416.78,387.389 1420.97,395.062 1425.64,402.449 1430.75,409.519 1436.29,416.246 1442.24,422.6 1448.57,428.558 1455.26,434.094 1462.29,439.187 1469.61,443.817 1477.21,447.963 1485.06,451.611 1493.11,454.745 1501.34,457.352 1509.72,459.422 1518.21,460.946 1526.78,461.92 1535.39,462.337 1544.01,462.198 1552.61,461.502 1561.14,460.253 1569.58,458.454 1577.89,456.115 1586.04,453.243 1593.99,449.851 1601.71,445.951 1609.18,441.561 1616.36,436.698 1623.22,431.38 1629.74,425.63 1635.88,419.471 1641.63,412.927 1646.96,406.025 1651.85,398.793 1656.28,391.26 1660.23,383.455 1663.68,375.412 1666.63,367.161 1669.06,358.736 1670.96,350.171 1672.32,341.501 1673.14,332.761 1673.42,323.985 \"/>\n",
       "<path clip-path=\"url(#clip192)\" d=\"M-2810.23 1292.58 L994.075 1292.58 L994.075 1015.84 L-2810.23 1015.84 L-2810.23 1292.58  Z\" fill=\"#000000\" fill-rule=\"evenodd\" fill-opacity=\"0.5\"/>\n",
       "<polyline clip-path=\"url(#clip192)\" style=\"stroke:#000000; stroke-linecap:round; stroke-linejoin:round; stroke-width:4; stroke-opacity:0.5; fill:none\" points=\"-2810.23,1292.58 994.075,1292.58 994.075,1015.84 -2810.23,1015.84 -2810.23,1292.58 \"/>\n",
       "<path clip-path=\"url(#clip192)\" d=\"M1537.55 1292.58 L5341.85 1292.58 L5341.85 1015.84 L1537.55 1015.84 L1537.55 1292.58  Z\" fill=\"#000000\" fill-rule=\"evenodd\" fill-opacity=\"0.5\"/>\n",
       "<polyline clip-path=\"url(#clip192)\" style=\"stroke:#000000; stroke-linecap:round; stroke-linejoin:round; stroke-width:4; stroke-opacity:0.5; fill:none\" points=\"1537.55,1292.58 5341.85,1292.58 5341.85,1015.84 1537.55,1015.84 1537.55,1292.58 \"/>\n",
       "</svg>\n"
      ],
      "text/html": [
       "<?xml version=\"1.0\" encoding=\"utf-8\"?>\n",
       "<svg xmlns=\"http://www.w3.org/2000/svg\" xmlns:xlink=\"http://www.w3.org/1999/xlink\" width=\"600\" height=\"600\" viewBox=\"0 0 2400 2400\">\n",
       "<defs>\n",
       "  <clipPath id=\"clip240\">\n",
       "    <rect x=\"0\" y=\"0\" width=\"2400\" height=\"2400\"/>\n",
       "  </clipPath>\n",
       "</defs>\n",
       "<path clip-path=\"url(#clip240)\" d=\"M0 2400 L2400 2400 L2400 0 L0 0  Z\" fill=\"#ffffff\" fill-rule=\"evenodd\" fill-opacity=\"1\"/>\n",
       "<defs>\n",
       "  <clipPath id=\"clip241\">\n",
       "    <rect x=\"480\" y=\"239\" width=\"1681\" height=\"1681\"/>\n",
       "  </clipPath>\n",
       "</defs>\n",
       "<path clip-path=\"url(#clip240)\" d=\"M178.867 2261.17 L2352.76 2261.17 L2352.76 47.2441 L178.867 47.2441  Z\" fill=\"#ffffff\" fill-rule=\"evenodd\" fill-opacity=\"1\"/>\n",
       "<defs>\n",
       "  <clipPath id=\"clip242\">\n",
       "    <rect x=\"178\" y=\"47\" width=\"2175\" height=\"2215\"/>\n",
       "  </clipPath>\n",
       "</defs>\n",
       "<polyline clip-path=\"url(#clip242)\" style=\"stroke:#000000; stroke-linecap:round; stroke-linejoin:round; stroke-width:2; stroke-opacity:0.1; fill:none\" points=\"178.867,2261.17 178.867,47.2441 \"/>\n",
       "<polyline clip-path=\"url(#clip242)\" style=\"stroke:#000000; stroke-linecap:round; stroke-linejoin:round; stroke-width:2; stroke-opacity:0.1; fill:none\" points=\"722.339,2261.17 722.339,47.2441 \"/>\n",
       "<polyline clip-path=\"url(#clip242)\" style=\"stroke:#000000; stroke-linecap:round; stroke-linejoin:round; stroke-width:2; stroke-opacity:0.1; fill:none\" points=\"1265.81,2261.17 1265.81,47.2441 \"/>\n",
       "<polyline clip-path=\"url(#clip242)\" style=\"stroke:#000000; stroke-linecap:round; stroke-linejoin:round; stroke-width:2; stroke-opacity:0.1; fill:none\" points=\"1809.28,2261.17 1809.28,47.2441 \"/>\n",
       "<polyline clip-path=\"url(#clip242)\" style=\"stroke:#000000; stroke-linecap:round; stroke-linejoin:round; stroke-width:2; stroke-opacity:0.1; fill:none\" points=\"2352.76,2261.17 2352.76,47.2441 \"/>\n",
       "<polyline clip-path=\"url(#clip242)\" style=\"stroke:#000000; stroke-linecap:round; stroke-linejoin:round; stroke-width:2; stroke-opacity:0.1; fill:none\" points=\"178.867,2261.17 2352.76,2261.17 \"/>\n",
       "<polyline clip-path=\"url(#clip242)\" style=\"stroke:#000000; stroke-linecap:round; stroke-linejoin:round; stroke-width:2; stroke-opacity:0.1; fill:none\" points=\"178.867,1707.69 2352.76,1707.69 \"/>\n",
       "<polyline clip-path=\"url(#clip242)\" style=\"stroke:#000000; stroke-linecap:round; stroke-linejoin:round; stroke-width:2; stroke-opacity:0.1; fill:none\" points=\"178.867,1154.21 2352.76,1154.21 \"/>\n",
       "<polyline clip-path=\"url(#clip242)\" style=\"stroke:#000000; stroke-linecap:round; stroke-linejoin:round; stroke-width:2; stroke-opacity:0.1; fill:none\" points=\"178.867,600.725 2352.76,600.725 \"/>\n",
       "<polyline clip-path=\"url(#clip242)\" style=\"stroke:#000000; stroke-linecap:round; stroke-linejoin:round; stroke-width:2; stroke-opacity:0.1; fill:none\" points=\"178.867,47.2441 2352.76,47.2441 \"/>\n",
       "<polyline clip-path=\"url(#clip240)\" style=\"stroke:#000000; stroke-linecap:round; stroke-linejoin:round; stroke-width:4; stroke-opacity:1; fill:none\" points=\"178.867,2261.17 2352.76,2261.17 \"/>\n",
       "<polyline clip-path=\"url(#clip240)\" style=\"stroke:#000000; stroke-linecap:round; stroke-linejoin:round; stroke-width:4; stroke-opacity:1; fill:none\" points=\"178.867,2261.17 178.867,2242.27 \"/>\n",
       "<polyline clip-path=\"url(#clip240)\" style=\"stroke:#000000; stroke-linecap:round; stroke-linejoin:round; stroke-width:4; stroke-opacity:1; fill:none\" points=\"722.339,2261.17 722.339,2242.27 \"/>\n",
       "<polyline clip-path=\"url(#clip240)\" style=\"stroke:#000000; stroke-linecap:round; stroke-linejoin:round; stroke-width:4; stroke-opacity:1; fill:none\" points=\"1265.81,2261.17 1265.81,2242.27 \"/>\n",
       "<polyline clip-path=\"url(#clip240)\" style=\"stroke:#000000; stroke-linecap:round; stroke-linejoin:round; stroke-width:4; stroke-opacity:1; fill:none\" points=\"1809.28,2261.17 1809.28,2242.27 \"/>\n",
       "<polyline clip-path=\"url(#clip240)\" style=\"stroke:#000000; stroke-linecap:round; stroke-linejoin:round; stroke-width:4; stroke-opacity:1; fill:none\" points=\"2352.76,2261.17 2352.76,2242.27 \"/>\n",
       "<path clip-path=\"url(#clip240)\" d=\"M132.929 2306.74 L162.605 2306.74 L162.605 2310.67 L132.929 2310.67 L132.929 2306.74 Z\" fill=\"#000000\" fill-rule=\"nonzero\" fill-opacity=\"1\" /><path clip-path=\"url(#clip240)\" d=\"M176.725 2319.63 L193.045 2319.63 L193.045 2323.57 L171.1 2323.57 L171.1 2319.63 Q173.762 2316.88 178.346 2312.25 Q182.952 2307.6 184.133 2306.25 Q186.378 2303.73 187.258 2301.99 Q188.161 2300.23 188.161 2298.54 Q188.161 2295.79 186.216 2294.05 Q184.295 2292.32 181.193 2292.32 Q178.994 2292.32 176.54 2293.08 Q174.11 2293.85 171.332 2295.4 L171.332 2290.67 Q174.156 2289.54 176.61 2288.96 Q179.063 2288.38 181.1 2288.38 Q186.471 2288.38 189.665 2291.07 Q192.86 2293.75 192.86 2298.24 Q192.86 2300.37 192.049 2302.29 Q191.262 2304.19 189.156 2306.79 Q188.577 2307.46 185.475 2310.67 Q182.374 2313.87 176.725 2319.63 Z\" fill=\"#000000\" fill-rule=\"nonzero\" fill-opacity=\"1\" /><path clip-path=\"url(#clip240)\" d=\"M212.86 2292.09 Q209.248 2292.09 207.42 2295.65 Q205.614 2299.19 205.614 2306.32 Q205.614 2313.43 207.42 2316.99 Q209.248 2320.54 212.86 2320.54 Q216.494 2320.54 218.299 2316.99 Q220.128 2313.43 220.128 2306.32 Q220.128 2299.19 218.299 2295.65 Q216.494 2292.09 212.86 2292.09 M212.86 2288.38 Q218.67 2288.38 221.725 2292.99 Q224.804 2297.57 224.804 2306.32 Q224.804 2315.05 221.725 2319.66 Q218.67 2324.24 212.86 2324.24 Q207.049 2324.24 203.971 2319.66 Q200.915 2315.05 200.915 2306.32 Q200.915 2297.57 203.971 2292.99 Q207.049 2288.38 212.86 2288.38 Z\" fill=\"#000000\" fill-rule=\"nonzero\" fill-opacity=\"1\" /><path clip-path=\"url(#clip240)\" d=\"M676.402 2306.74 L706.077 2306.74 L706.077 2310.67 L676.402 2310.67 L676.402 2306.74 Z\" fill=\"#000000\" fill-rule=\"nonzero\" fill-opacity=\"1\" /><path clip-path=\"url(#clip240)\" d=\"M716.98 2319.63 L724.619 2319.63 L724.619 2293.27 L716.309 2294.93 L716.309 2290.67 L724.573 2289.01 L729.249 2289.01 L729.249 2319.63 L736.887 2319.63 L736.887 2323.57 L716.98 2323.57 L716.98 2319.63 Z\" fill=\"#000000\" fill-rule=\"nonzero\" fill-opacity=\"1\" /><path clip-path=\"url(#clip240)\" d=\"M756.332 2292.09 Q752.721 2292.09 750.892 2295.65 Q749.086 2299.19 749.086 2306.32 Q749.086 2313.43 750.892 2316.99 Q752.721 2320.54 756.332 2320.54 Q759.966 2320.54 761.772 2316.99 Q763.6 2313.43 763.6 2306.32 Q763.6 2299.19 761.772 2295.65 Q759.966 2292.09 756.332 2292.09 M756.332 2288.38 Q762.142 2288.38 765.198 2292.99 Q768.276 2297.57 768.276 2306.32 Q768.276 2315.05 765.198 2319.66 Q762.142 2324.24 756.332 2324.24 Q750.522 2324.24 747.443 2319.66 Q744.387 2315.05 744.387 2306.32 Q744.387 2297.57 747.443 2292.99 Q750.522 2288.38 756.332 2288.38 Z\" fill=\"#000000\" fill-rule=\"nonzero\" fill-opacity=\"1\" /><path clip-path=\"url(#clip240)\" d=\"M1265.81 2292.09 Q1262.2 2292.09 1260.37 2295.65 Q1258.57 2299.19 1258.57 2306.32 Q1258.57 2313.43 1260.37 2316.99 Q1262.2 2320.54 1265.81 2320.54 Q1269.45 2320.54 1271.25 2316.99 Q1273.08 2313.43 1273.08 2306.32 Q1273.08 2299.19 1271.25 2295.65 Q1269.45 2292.09 1265.81 2292.09 M1265.81 2288.38 Q1271.62 2288.38 1274.68 2292.99 Q1277.76 2297.57 1277.76 2306.32 Q1277.76 2315.05 1274.68 2319.66 Q1271.62 2324.24 1265.81 2324.24 Q1260 2324.24 1256.92 2319.66 Q1253.87 2315.05 1253.87 2306.32 Q1253.87 2297.57 1256.92 2292.99 Q1260 2288.38 1265.81 2288.38 Z\" fill=\"#000000\" fill-rule=\"nonzero\" fill-opacity=\"1\" /><path clip-path=\"url(#clip240)\" d=\"M1783.97 2319.63 L1791.61 2319.63 L1791.61 2293.27 L1783.3 2294.93 L1783.3 2290.67 L1791.56 2289.01 L1796.24 2289.01 L1796.24 2319.63 L1803.88 2319.63 L1803.88 2323.57 L1783.97 2323.57 L1783.97 2319.63 Z\" fill=\"#000000\" fill-rule=\"nonzero\" fill-opacity=\"1\" /><path clip-path=\"url(#clip240)\" d=\"M1823.32 2292.09 Q1819.71 2292.09 1817.88 2295.65 Q1816.08 2299.19 1816.08 2306.32 Q1816.08 2313.43 1817.88 2316.99 Q1819.71 2320.54 1823.32 2320.54 Q1826.96 2320.54 1828.76 2316.99 Q1830.59 2313.43 1830.59 2306.32 Q1830.59 2299.19 1828.76 2295.65 Q1826.96 2292.09 1823.32 2292.09 M1823.32 2288.38 Q1829.13 2288.38 1832.19 2292.99 Q1835.27 2297.57 1835.27 2306.32 Q1835.27 2315.05 1832.19 2319.66 Q1829.13 2324.24 1823.32 2324.24 Q1817.51 2324.24 1814.43 2319.66 Q1811.38 2315.05 1811.38 2306.32 Q1811.38 2297.57 1814.43 2292.99 Q1817.51 2288.38 1823.32 2288.38 Z\" fill=\"#000000\" fill-rule=\"nonzero\" fill-opacity=\"1\" /><path clip-path=\"url(#clip240)\" d=\"M2331.53 2319.63 L2347.85 2319.63 L2347.85 2323.57 L2325.9 2323.57 L2325.9 2319.63 Q2328.57 2316.88 2333.15 2312.25 Q2337.76 2307.6 2338.94 2306.25 Q2341.18 2303.73 2342.06 2301.99 Q2342.96 2300.23 2342.96 2298.54 Q2342.96 2295.79 2341.02 2294.05 Q2339.1 2292.32 2336 2292.32 Q2333.8 2292.32 2331.34 2293.08 Q2328.91 2293.85 2326.14 2295.4 L2326.14 2290.67 Q2328.96 2289.54 2331.41 2288.96 Q2333.87 2288.38 2335.9 2288.38 Q2341.27 2288.38 2344.47 2291.07 Q2347.66 2293.75 2347.66 2298.24 Q2347.66 2300.37 2346.85 2302.29 Q2346.07 2304.19 2343.96 2306.79 Q2343.38 2307.46 2340.28 2310.67 Q2337.18 2313.87 2331.53 2319.63 Z\" fill=\"#000000\" fill-rule=\"nonzero\" fill-opacity=\"1\" /><path clip-path=\"url(#clip240)\" d=\"M2367.66 2292.09 Q2364.05 2292.09 2362.22 2295.65 Q2360.42 2299.19 2360.42 2306.32 Q2360.42 2313.43 2362.22 2316.99 Q2364.05 2320.54 2367.66 2320.54 Q2371.3 2320.54 2373.1 2316.99 Q2374.93 2313.43 2374.93 2306.32 Q2374.93 2299.19 2373.1 2295.65 Q2371.3 2292.09 2367.66 2292.09 M2367.66 2288.38 Q2373.47 2288.38 2376.53 2292.99 Q2379.61 2297.57 2379.61 2306.32 Q2379.61 2315.05 2376.53 2319.66 Q2373.47 2324.24 2367.66 2324.24 Q2361.85 2324.24 2358.77 2319.66 Q2355.72 2315.05 2355.72 2306.32 Q2355.72 2297.57 2358.77 2292.99 Q2361.85 2288.38 2367.66 2288.38 Z\" fill=\"#000000\" fill-rule=\"nonzero\" fill-opacity=\"1\" /><polyline clip-path=\"url(#clip240)\" style=\"stroke:#000000; stroke-linecap:round; stroke-linejoin:round; stroke-width:4; stroke-opacity:1; fill:none\" points=\"178.867,2261.17 178.867,47.2441 \"/>\n",
       "<polyline clip-path=\"url(#clip240)\" style=\"stroke:#000000; stroke-linecap:round; stroke-linejoin:round; stroke-width:4; stroke-opacity:1; fill:none\" points=\"178.867,2261.17 197.764,2261.17 \"/>\n",
       "<polyline clip-path=\"url(#clip240)\" style=\"stroke:#000000; stroke-linecap:round; stroke-linejoin:round; stroke-width:4; stroke-opacity:1; fill:none\" points=\"178.867,1707.69 197.764,1707.69 \"/>\n",
       "<polyline clip-path=\"url(#clip240)\" style=\"stroke:#000000; stroke-linecap:round; stroke-linejoin:round; stroke-width:4; stroke-opacity:1; fill:none\" points=\"178.867,1154.21 197.764,1154.21 \"/>\n",
       "<polyline clip-path=\"url(#clip240)\" style=\"stroke:#000000; stroke-linecap:round; stroke-linejoin:round; stroke-width:4; stroke-opacity:1; fill:none\" points=\"178.867,600.725 197.764,600.725 \"/>\n",
       "<polyline clip-path=\"url(#clip240)\" style=\"stroke:#000000; stroke-linecap:round; stroke-linejoin:round; stroke-width:4; stroke-opacity:1; fill:none\" points=\"178.867,47.2441 197.764,47.2441 \"/>\n",
       "<path clip-path=\"url(#clip240)\" d=\"M50.9921 2261.62 L80.6679 2261.62 L80.6679 2265.55 L50.9921 2265.55 L50.9921 2261.62 Z\" fill=\"#000000\" fill-rule=\"nonzero\" fill-opacity=\"1\" /><path clip-path=\"url(#clip240)\" d=\"M94.7882 2274.51 L111.108 2274.51 L111.108 2278.45 L89.1632 2278.45 L89.1632 2274.51 Q91.8252 2271.76 96.4085 2267.13 Q101.015 2262.48 102.196 2261.13 Q104.441 2258.61 105.321 2256.87 Q106.223 2255.11 106.223 2253.42 Q106.223 2250.67 104.279 2248.93 Q102.358 2247.2 99.2558 2247.2 Q97.0567 2247.2 94.603 2247.96 Q92.1725 2248.73 89.3947 2250.28 L89.3947 2245.55 Q92.2188 2244.42 94.6724 2243.84 Q97.1261 2243.26 99.1632 2243.26 Q104.534 2243.26 107.728 2245.95 Q110.922 2248.63 110.922 2253.12 Q110.922 2255.25 110.112 2257.17 Q109.325 2259.07 107.219 2261.67 Q106.64 2262.34 103.538 2265.55 Q100.436 2268.75 94.7882 2274.51 Z\" fill=\"#000000\" fill-rule=\"nonzero\" fill-opacity=\"1\" /><path clip-path=\"url(#clip240)\" d=\"M130.922 2246.97 Q127.311 2246.97 125.482 2250.53 Q123.677 2254.07 123.677 2261.2 Q123.677 2268.31 125.482 2271.87 Q127.311 2275.42 130.922 2275.42 Q134.556 2275.42 136.362 2271.87 Q138.191 2268.31 138.191 2261.2 Q138.191 2254.07 136.362 2250.53 Q134.556 2246.97 130.922 2246.97 M130.922 2243.26 Q136.732 2243.26 139.788 2247.87 Q142.867 2252.45 142.867 2261.2 Q142.867 2269.93 139.788 2274.54 Q136.732 2279.12 130.922 2279.12 Q125.112 2279.12 122.033 2274.54 Q118.978 2269.93 118.978 2261.2 Q118.978 2252.45 122.033 2247.87 Q125.112 2243.26 130.922 2243.26 Z\" fill=\"#000000\" fill-rule=\"nonzero\" fill-opacity=\"1\" /><path clip-path=\"url(#clip240)\" d=\"M50.9921 1708.14 L80.6679 1708.14 L80.6679 1712.07 L50.9921 1712.07 L50.9921 1708.14 Z\" fill=\"#000000\" fill-rule=\"nonzero\" fill-opacity=\"1\" /><path clip-path=\"url(#clip240)\" d=\"M91.5706 1721.03 L99.2095 1721.03 L99.2095 1694.67 L90.8993 1696.33 L90.8993 1692.07 L99.1632 1690.41 L103.839 1690.41 L103.839 1721.03 L111.478 1721.03 L111.478 1724.97 L91.5706 1724.97 L91.5706 1721.03 Z\" fill=\"#000000\" fill-rule=\"nonzero\" fill-opacity=\"1\" /><path clip-path=\"url(#clip240)\" d=\"M130.922 1693.49 Q127.311 1693.49 125.482 1697.05 Q123.677 1700.59 123.677 1707.72 Q123.677 1714.83 125.482 1718.39 Q127.311 1721.93 130.922 1721.93 Q134.556 1721.93 136.362 1718.39 Q138.191 1714.83 138.191 1707.72 Q138.191 1700.59 136.362 1697.05 Q134.556 1693.49 130.922 1693.49 M130.922 1689.78 Q136.732 1689.78 139.788 1694.39 Q142.867 1698.97 142.867 1707.72 Q142.867 1716.45 139.788 1721.05 Q136.732 1725.64 130.922 1725.64 Q125.112 1725.64 122.033 1721.05 Q118.978 1716.45 118.978 1707.72 Q118.978 1698.97 122.033 1694.39 Q125.112 1689.78 130.922 1689.78 Z\" fill=\"#000000\" fill-rule=\"nonzero\" fill-opacity=\"1\" /><path clip-path=\"url(#clip240)\" d=\"M130.922 1140 Q127.311 1140 125.482 1143.57 Q123.677 1147.11 123.677 1154.24 Q123.677 1161.35 125.482 1164.91 Q127.311 1168.45 130.922 1168.45 Q134.556 1168.45 136.362 1164.91 Q138.191 1161.35 138.191 1154.24 Q138.191 1147.11 136.362 1143.57 Q134.556 1140 130.922 1140 M130.922 1136.3 Q136.732 1136.3 139.788 1140.91 Q142.867 1145.49 142.867 1154.24 Q142.867 1162.97 139.788 1167.57 Q136.732 1172.16 130.922 1172.16 Q125.112 1172.16 122.033 1167.57 Q118.978 1162.97 118.978 1154.24 Q118.978 1145.49 122.033 1140.91 Q125.112 1136.3 130.922 1136.3 Z\" fill=\"#000000\" fill-rule=\"nonzero\" fill-opacity=\"1\" /><path clip-path=\"url(#clip240)\" d=\"M91.5706 614.07 L99.2095 614.07 L99.2095 587.704 L90.8993 589.371 L90.8993 585.112 L99.1632 583.445 L103.839 583.445 L103.839 614.07 L111.478 614.07 L111.478 618.005 L91.5706 618.005 L91.5706 614.07 Z\" fill=\"#000000\" fill-rule=\"nonzero\" fill-opacity=\"1\" /><path clip-path=\"url(#clip240)\" d=\"M130.922 586.524 Q127.311 586.524 125.482 590.089 Q123.677 593.63 123.677 600.76 Q123.677 607.866 125.482 611.431 Q127.311 614.973 130.922 614.973 Q134.556 614.973 136.362 611.431 Q138.191 607.866 138.191 600.76 Q138.191 593.63 136.362 590.089 Q134.556 586.524 130.922 586.524 M130.922 582.82 Q136.732 582.82 139.788 587.426 Q142.867 592.01 142.867 600.76 Q142.867 609.487 139.788 614.093 Q136.732 618.676 130.922 618.676 Q125.112 618.676 122.033 614.093 Q118.978 609.487 118.978 600.76 Q118.978 592.01 122.033 587.426 Q125.112 582.82 130.922 582.82 Z\" fill=\"#000000\" fill-rule=\"nonzero\" fill-opacity=\"1\" /><path clip-path=\"url(#clip240)\" d=\"M94.7882 60.5889 L111.108 60.5889 L111.108 64.5241 L89.1632 64.5241 L89.1632 60.5889 Q91.8252 57.8343 96.4085 53.2047 Q101.015 48.552 102.196 47.2094 Q104.441 44.6862 105.321 42.9501 Q106.223 41.1909 106.223 39.5011 Q106.223 36.7465 104.279 35.0104 Q102.358 33.2743 99.2558 33.2743 Q97.0567 33.2743 94.603 34.0381 Q92.1725 34.802 89.3947 36.3529 L89.3947 31.6308 Q92.2188 30.4965 94.6724 29.9178 Q97.1261 29.3391 99.1632 29.3391 Q104.534 29.3391 107.728 32.0243 Q110.922 34.7094 110.922 39.2002 Q110.922 41.3298 110.112 43.2511 Q109.325 45.1492 107.219 47.7418 Q106.64 48.4131 103.538 51.6306 Q100.436 54.8251 94.7882 60.5889 Z\" fill=\"#000000\" fill-rule=\"nonzero\" fill-opacity=\"1\" /><path clip-path=\"url(#clip240)\" d=\"M130.922 33.0428 Q127.311 33.0428 125.482 36.6076 Q123.677 40.1492 123.677 47.2788 Q123.677 54.3853 125.482 57.9501 Q127.311 61.4917 130.922 61.4917 Q134.556 61.4917 136.362 57.9501 Q138.191 54.3853 138.191 47.2788 Q138.191 40.1492 136.362 36.6076 Q134.556 33.0428 130.922 33.0428 M130.922 29.3391 Q136.732 29.3391 139.788 33.9456 Q142.867 38.5289 142.867 47.2788 Q142.867 56.0056 139.788 60.6121 Q136.732 65.1954 130.922 65.1954 Q125.112 65.1954 122.033 60.6121 Q118.978 56.0056 118.978 47.2788 Q118.978 38.5289 122.033 33.9456 Q125.112 29.3391 130.922 29.3391 Z\" fill=\"#000000\" fill-rule=\"nonzero\" fill-opacity=\"1\" /><path clip-path=\"url(#clip242)\" d=\"M994.075 283.985 L984.675 311.025 L956.035 311.625 L978.875 328.945 L970.555 356.345 L994.075 339.985 L1017.6 356.345 L1009.28 328.945 L1032.12 311.625 L1003.48 311.025 L994.075 283.985 Z\" fill=\"#ff0000\" fill-rule=\"evenodd\" fill-opacity=\"1\" stroke=\"#000000\" stroke-opacity=\"1\" stroke-width=\"4.8\"/>\n",
       "<path clip-path=\"url(#clip242)\" d=\"M1537.55 283.985 L1528.15 311.025 L1499.51 311.625 L1522.35 328.945 L1514.03 356.345 L1537.55 339.985 L1561.07 356.345 L1552.75 328.945 L1575.59 311.625 L1546.95 311.025 L1537.55 283.985 Z\" fill=\"#0000ff\" fill-rule=\"evenodd\" fill-opacity=\"1\" stroke=\"#000000\" stroke-opacity=\"1\" stroke-width=\"4.8\"/>\n",
       "<path clip-path=\"url(#clip242)\" d=\"M1537.55 1944.43 L1528.15 1971.47 L1499.51 1972.07 L1522.35 1989.39 L1514.03 2016.79 L1537.55 2000.43 L1561.07 2016.79 L1552.75 1989.39 L1575.59 1972.07 L1546.95 1971.47 L1537.55 1944.43 Z\" fill=\"#ffa500\" fill-rule=\"evenodd\" fill-opacity=\"1\" stroke=\"#000000\" stroke-opacity=\"1\" stroke-width=\"4.8\"/>\n",
       "<path clip-path=\"url(#clip242)\" d=\"M994.075 1944.43 L984.675 1971.47 L956.035 1972.07 L978.875 1989.39 L970.555 2016.79 L994.075 2000.43 L1017.6 2016.79 L1009.28 1989.39 L1032.12 1972.07 L1003.48 1971.47 L994.075 1944.43 Z\" fill=\"#008000\" fill-rule=\"evenodd\" fill-opacity=\"1\" stroke=\"#000000\" stroke-opacity=\"1\" stroke-width=\"4.8\"/>\n",
       "<polyline clip-path=\"url(#clip242)\" style=\"stroke:#ff0000; stroke-linecap:round; stroke-linejoin:round; stroke-width:4; stroke-opacity:1; fill:none\" points=\"1673.42,1984.43 1673.14,1975.65 1672.32,1966.91 1670.96,1958.24 1669.06,1949.68 1666.63,1941.25 1663.68,1933 1660.23,1924.96 1656.28,1917.15 1651.85,1909.62 1646.96,1902.39 1641.63,1895.48 1635.88,1888.94 1629.74,1882.78 1623.22,1877.03 1616.36,1871.71 1609.18,1866.85 1601.71,1862.46 1593.99,1858.56 1586.04,1855.17 1577.89,1852.3 1569.58,1849.96 1561.14,1848.16 1552.61,1846.91 1544.01,1846.21 1535.39,1846.07 1526.78,1846.49 1518.21,1847.47 1509.72,1848.99 1501.34,1851.06 1493.11,1853.67 1485.06,1856.8 1477.21,1860.45 1469.61,1864.6 1462.29,1869.22 1455.26,1874.32 1448.57,1879.85 1442.24,1885.81 1436.29,1892.17 1430.75,1898.89 1425.64,1905.96 1420.97,1913.35 1416.78,1921.02 1413.08,1928.95 1409.87,1937.1 1407.18,1945.44 1405.02,1953.94 1403.39,1962.56 1402.29,1971.27 1401.75,1980.04 1401.75,1988.82 1402.29,1997.58 1403.39,2006.29 1405.02,2014.91 1407.18,2023.41 1409.87,2031.75 1413.08,2039.9 1416.78,2047.83 1420.97,2055.51 1425.64,2062.89 1430.75,2069.96 1436.29,2076.69 1442.24,2083.04 1448.57,2089 1455.26,2094.54 1462.29,2099.63 1469.61,2104.26 1477.21,2108.41 1485.06,2112.05 1493.11,2115.19 1501.34,2117.79 1509.72,2119.86 1518.21,2121.39 1526.78,2122.36 1535.39,2122.78 1544.01,2122.64 1552.61,2121.95 1561.14,2120.7 1569.58,2118.9 1577.89,2116.56 1586.04,2113.69 1593.99,2110.29 1601.71,2106.39 1609.18,2102 1616.36,2097.14 1623.22,2091.82 1629.74,2086.07 1635.88,2079.91 1641.63,2073.37 1646.96,2066.47 1651.85,2059.24 1656.28,2051.7 1660.23,2043.9 1663.68,2035.85 1666.63,2027.6 1669.06,2019.18 1670.96,2010.61 1672.32,2001.94 1673.14,1993.2 1673.42,1984.43 \"/>\n",
       "<polyline clip-path=\"url(#clip242)\" style=\"stroke:#0000ff; stroke-linecap:round; stroke-linejoin:round; stroke-width:4; stroke-opacity:1; fill:none\" points=\"1129.94,1984.43 1129.67,1975.65 1128.85,1966.91 1127.49,1958.24 1125.59,1949.68 1123.16,1941.25 1120.21,1933 1116.75,1924.96 1112.8,1917.15 1108.37,1909.62 1103.49,1902.39 1098.16,1895.48 1092.41,1888.94 1086.26,1882.78 1079.75,1877.03 1072.89,1871.71 1065.71,1866.85 1058.24,1862.46 1050.52,1858.56 1042.56,1855.17 1034.42,1852.3 1026.11,1849.96 1017.67,1848.16 1009.13,1846.91 1000.54,1846.21 991.919,1846.07 983.308,1846.49 974.739,1847.47 966.248,1848.99 957.87,1851.06 949.637,1853.67 941.583,1856.8 933.741,1860.45 926.141,1864.6 918.815,1869.22 911.792,1874.32 905.1,1879.85 898.767,1885.81 892.817,1892.17 887.276,1898.89 882.164,1905.96 877.503,1913.35 873.311,1921.02 869.605,1928.95 866.401,1937.1 863.711,1945.44 861.545,1953.94 859.914,1962.56 858.822,1971.27 858.275,1980.04 858.275,1988.82 858.822,1997.58 859.914,2006.29 861.545,2014.91 863.711,2023.41 866.401,2031.75 869.605,2039.9 873.311,2047.83 877.503,2055.51 882.164,2062.89 887.276,2069.96 892.817,2076.69 898.767,2083.04 905.1,2089 911.792,2094.54 918.815,2099.63 926.141,2104.26 933.741,2108.41 941.583,2112.05 949.637,2115.19 957.87,2117.79 966.248,2119.86 974.739,2121.39 983.308,2122.36 991.919,2122.78 1000.54,2122.64 1009.13,2121.95 1017.67,2120.7 1026.11,2118.9 1034.42,2116.56 1042.56,2113.69 1050.52,2110.29 1058.24,2106.39 1065.71,2102 1072.89,2097.14 1079.75,2091.82 1086.26,2086.07 1092.41,2079.91 1098.16,2073.37 1103.49,2066.47 1108.37,2059.24 1112.8,2051.7 1116.75,2043.9 1120.21,2035.85 1123.16,2027.6 1125.59,2019.18 1127.49,2010.61 1128.85,2001.94 1129.67,1993.2 1129.94,1984.43 \"/>\n",
       "<polyline clip-path=\"url(#clip242)\" style=\"stroke:#ffa500; stroke-linecap:round; stroke-linejoin:round; stroke-width:4; stroke-opacity:1; fill:none\" points=\"1129.94,323.985 1129.67,315.209 1128.85,306.468 1127.49,297.798 1125.59,289.233 1123.16,280.808 1120.21,272.558 1116.75,264.514 1112.8,256.709 1108.37,249.176 1103.49,241.944 1098.16,235.042 1092.41,228.498 1086.26,222.339 1079.75,216.589 1072.89,211.272 1065.71,206.408 1058.24,202.018 1050.52,198.119 1042.56,194.726 1034.42,191.855 1026.11,189.515 1017.67,187.716 1009.13,186.467 1000.54,185.771 991.919,185.632 983.308,186.05 974.739,187.023 966.248,188.547 957.87,190.617 949.637,193.225 941.583,196.358 933.741,200.006 926.141,204.152 918.815,208.782 911.792,213.875 905.1,219.411 898.767,225.369 892.817,231.724 887.276,238.45 882.164,245.52 877.503,252.907 873.311,260.58 869.605,268.508 866.401,276.659 863.711,285.001 861.545,293.5 859.914,302.122 858.822,310.832 858.275,319.594 858.275,328.375 858.822,337.137 859.914,345.847 861.545,354.469 863.711,362.968 866.401,371.31 869.605,379.461 873.311,387.389 877.503,395.062 882.164,402.449 887.276,409.519 892.817,416.246 898.767,422.6 905.1,428.558 911.792,434.094 918.815,439.187 926.141,443.817 933.741,447.963 941.583,451.611 949.637,454.745 957.87,457.352 966.248,459.422 974.739,460.946 983.308,461.92 991.919,462.337 1000.54,462.198 1009.13,461.502 1017.67,460.253 1026.11,458.454 1034.42,456.115 1042.56,453.243 1050.52,449.851 1058.24,445.951 1065.71,441.561 1072.89,436.698 1079.75,431.38 1086.26,425.63 1092.41,419.471 1098.16,412.927 1103.49,406.025 1108.37,398.793 1112.8,391.26 1116.75,383.455 1120.21,375.412 1123.16,367.161 1125.59,358.736 1127.49,350.171 1128.85,341.501 1129.67,332.761 1129.94,323.985 \"/>\n",
       "<polyline clip-path=\"url(#clip242)\" style=\"stroke:#008000; stroke-linecap:round; stroke-linejoin:round; stroke-width:4; stroke-opacity:1; fill:none\" points=\"1673.42,323.985 1673.14,315.209 1672.32,306.468 1670.96,297.798 1669.06,289.233 1666.63,280.808 1663.68,272.558 1660.23,264.514 1656.28,256.709 1651.85,249.176 1646.96,241.944 1641.63,235.042 1635.88,228.498 1629.74,222.339 1623.22,216.589 1616.36,211.272 1609.18,206.408 1601.71,202.018 1593.99,198.119 1586.04,194.726 1577.89,191.855 1569.58,189.515 1561.14,187.716 1552.61,186.467 1544.01,185.771 1535.39,185.632 1526.78,186.05 1518.21,187.023 1509.72,188.547 1501.34,190.617 1493.11,193.225 1485.06,196.358 1477.21,200.006 1469.61,204.152 1462.29,208.782 1455.26,213.875 1448.57,219.411 1442.24,225.369 1436.29,231.724 1430.75,238.45 1425.64,245.52 1420.97,252.907 1416.78,260.58 1413.08,268.508 1409.87,276.659 1407.18,285.001 1405.02,293.5 1403.39,302.122 1402.29,310.832 1401.75,319.594 1401.75,328.375 1402.29,337.137 1403.39,345.847 1405.02,354.469 1407.18,362.968 1409.87,371.31 1413.08,379.461 1416.78,387.389 1420.97,395.062 1425.64,402.449 1430.75,409.519 1436.29,416.246 1442.24,422.6 1448.57,428.558 1455.26,434.094 1462.29,439.187 1469.61,443.817 1477.21,447.963 1485.06,451.611 1493.11,454.745 1501.34,457.352 1509.72,459.422 1518.21,460.946 1526.78,461.92 1535.39,462.337 1544.01,462.198 1552.61,461.502 1561.14,460.253 1569.58,458.454 1577.89,456.115 1586.04,453.243 1593.99,449.851 1601.71,445.951 1609.18,441.561 1616.36,436.698 1623.22,431.38 1629.74,425.63 1635.88,419.471 1641.63,412.927 1646.96,406.025 1651.85,398.793 1656.28,391.26 1660.23,383.455 1663.68,375.412 1666.63,367.161 1669.06,358.736 1670.96,350.171 1672.32,341.501 1673.14,332.761 1673.42,323.985 \"/>\n",
       "<path clip-path=\"url(#clip242)\" d=\"M-2810.23 1292.58 L994.075 1292.58 L994.075 1015.84 L-2810.23 1015.84 L-2810.23 1292.58  Z\" fill=\"#000000\" fill-rule=\"evenodd\" fill-opacity=\"0.5\"/>\n",
       "<polyline clip-path=\"url(#clip242)\" style=\"stroke:#000000; stroke-linecap:round; stroke-linejoin:round; stroke-width:4; stroke-opacity:0.5; fill:none\" points=\"-2810.23,1292.58 994.075,1292.58 994.075,1015.84 -2810.23,1015.84 -2810.23,1292.58 \"/>\n",
       "<path clip-path=\"url(#clip242)\" d=\"M1537.55 1292.58 L5341.85 1292.58 L5341.85 1015.84 L1537.55 1015.84 L1537.55 1292.58  Z\" fill=\"#000000\" fill-rule=\"evenodd\" fill-opacity=\"0.5\"/>\n",
       "<polyline clip-path=\"url(#clip242)\" style=\"stroke:#000000; stroke-linecap:round; stroke-linejoin:round; stroke-width:4; stroke-opacity:0.5; fill:none\" points=\"1537.55,1292.58 5341.85,1292.58 5341.85,1015.84 1537.55,1015.84 1537.55,1292.58 \"/>\n",
       "</svg>\n"
      ]
     },
     "metadata": {},
     "output_type": "display_data"
    }
   ],
   "source": [
    "begin\n",
    "\tplot(size = (600, 600))\n",
    "\n",
    "\tscatter!([goals[2,1][1]], [goals[2,1][3]], color=\"red\", label=\"\", marker=:star5, markersize=10)\n",
    "\tscatter!([goals[2,2][1]], [goals[2,2][3]], color=\"blue\", label=\"\", marker=:star5, markersize=10)\n",
    "\tscatter!([goals[2,3][1]], [goals[2,3][3]], color=\"orange\", label=\"\", marker=:star5, markersize=10)\n",
    "\tscatter!([goals[2,4][1]], [goals[2,4][3]], color=\"green\", label=\"\", marker=:star5, markersize=10)\n",
    "\t\n",
    "\tdraw_circle!([goals[1,1][1], goals[1,1][3]], radius; color=\"red\", label=\"\")\n",
    "\tdraw_circle!([goals[1,2][1], goals[1,2][3]], radius; color=\"blue\", label=\"\")\n",
    "\tdraw_circle!([goals[1,3][1], goals[1,3][3]], radius; color=\"orange\", label=\"\")\n",
    "\tdraw_circle!([goals[1,4][1], goals[1,4][3]], radius; color=\"green\", label=\"\")\n",
    "\n",
    "\tdraw_rectangle!(environment[1]; label=\"\", color=\"black\", alpha=0.5)\n",
    "\tdraw_rectangle!(environment[2]; label=\"\", color=\"black\", alpha=0.5)\n",
    "\n",
    "\txlims!(-20, 20)\n",
    "\tylims!(-20, 20)\n",
    "end"
   ]
  },
  {
   "cell_type": "markdown",
   "id": "4e37b59a-de81-433b-aebc-39ccd6071c44",
   "metadata": {},
   "source": [
    "## Halfspace prior implementation"
   ]
  },
  {
   "cell_type": "code",
   "execution_count": 5,
   "id": "d44cd022-21c9-456e-ac66-546af566a96e",
   "metadata": {},
   "outputs": [],
   "source": [
    "# Define the probabilistic model for obstacles using halfspace constraints\n",
    "begin\n",
    "\n",
    "\t# node specification\n",
    "\tstruct Halfspace end\n",
    "\t@node Halfspace Stochastic [out, a, σ2, γ]\n",
    "\n",
    "\t# rule specification\n",
    "\t@rule Halfspace(:out, Marginalisation) (q_a::PointMass, q_σ2::PointMass, q_γ::PointMass) = begin\n",
    "\t\treturn NormalMeanVariance(mean(q_a) + mean(q_γ) * mean(q_σ2), mean(q_σ2))\n",
    "\tend\n",
    "\n",
    "\t@rule Halfspace(:σ2, Marginalisation) (q_out::UnivariateNormalDistributionsFamily, q_a::PointMass, q_γ::PointMass, ) = begin\n",
    "\t\treturn PointMass( 1 / mean(q_γ) * sqrt(abs2(mean(q_out) - mean(q_a)) + var(q_out)))\n",
    "\tend\n",
    "\t\n",
    "end"
   ]
  },
  {
   "cell_type": "markdown",
   "id": "cd665182-cbd3-4745-9f4e-6db794f6f8bc",
   "metadata": {},
   "source": [
    "## Model specification"
   ]
  },
  {
   "cell_type": "code",
   "execution_count": 6,
   "id": "837ba87a-3bcb-486f-85c5-e71b456683a5",
   "metadata": {},
   "outputs": [],
   "source": [
    "function g(y; r = radius)\n",
    "\treturn distance(environment, y) - r\n",
    "end;"
   ]
  },
  {
   "cell_type": "code",
   "execution_count": 7,
   "id": "00794eb0-9929-46a4-a2c2-b3ba9ee50207",
   "metadata": {},
   "outputs": [],
   "source": [
    "function h(y1, y2, y3, y4; r = radius)\n",
    "\treturn softmin([\n",
    "\t\tnorm(y1 - y2) - 2*r,\n",
    "\t\tnorm(y1 - y3) - 2*r,\n",
    "\t\tnorm(y1 - y4) - 2*r,\n",
    "\t\tnorm(y2 - y3) - 2*r,\n",
    "\t\tnorm(y2 - y4) - 2*r,\n",
    "\t\tnorm(y3 - y4) - 2*r,\n",
    "\t])\n",
    "end;"
   ]
  },
  {
   "cell_type": "code",
   "execution_count": 8,
   "id": "62944f65-f654-4153-902f-8bd286ca6376",
   "metadata": {},
   "outputs": [],
   "source": [
    "# Define model\n",
    "@model function door_model(nr_steps, γ, A, B, C, goals)\n",
    "\n",
    "\tlocal y\n",
    "\t\n",
    "\t# single agent models\n",
    "\tfor k in 1:4\n",
    "\n",
    "\t\t# prior on state\n",
    "\t\tx[k,1] ~ MvNormalMeanCovariance(zeros(4), 1e2I)\n",
    "\t\n",
    "\t\tfor t in 1:nr_steps\n",
    "\t\t\t\n",
    "\t\t\t# prior on controls\n",
    "\t\t\tu[k,t] ~ MvNormalMeanCovariance(zeros(2), 1e-1I)\n",
    "\t\n",
    "\t\t\t# state transition\n",
    "\t\t\tx[k,t+1] ~ A * x[k,t] + B * u[k,t]\n",
    "\t\n",
    "\t\t\t# observation model\n",
    "\t\t\ty[k,t] ~ C * x[k,t+1]\n",
    "\n",
    "\t\t\t# environmental distance\n",
    "\t\t\tzσ2[k,t] ~ GammaShapeRate(3/2, γ^2/2)\n",
    "\t\t\tz[k,t] ~ g(y[k,t])\n",
    "\t\t\tz[k,t] ~ Halfspace(0, zσ2[k,t], γ)\n",
    "\n",
    "\t\tend\n",
    "\n",
    "\t\t# goal priors (indexing reverse due to definition)\n",
    "\t\tgoals[1,k] ~ MvNormalMeanCovariance(x[k,1], 1e-5I)\n",
    "\t\tgoals[2,k] ~ MvNormalMeanCovariance(x[k,nr_steps + 1], 1e-5I)\n",
    "\t\t\n",
    "\tend\n",
    "\n",
    "\tfor t = 1:nr_steps\n",
    "\n",
    "\t\t# observation constraint\n",
    "\t\tdσ2[t] ~ GammaShapeRate(3/2, γ^2/2)\n",
    "\t\td[t] ~ h(y[1,t], y[2,t], y[3,t], y[4,t])\n",
    "\t\td[t] ~ Halfspace(0, dσ2[t], γ)\n",
    "\t\t\n",
    "\tend\n",
    "\t\n",
    "end;"
   ]
  },
  {
   "cell_type": "markdown",
   "id": "a7b0732c-20fc-4fa2-9763-d26646b1c06a",
   "metadata": {},
   "source": [
    "## Constraint specification"
   ]
  },
  {
   "cell_type": "code",
   "execution_count": 9,
   "id": "9b2d98f7-f4ec-4d95-b907-80d8a2a470a3",
   "metadata": {},
   "outputs": [],
   "source": [
    "@constraints function door_constraints()\n",
    "\tq(d, dσ2) = q(d)q(dσ2)\n",
    "\tq(z, zσ2) = q(z)q(zσ2)\n",
    "end;"
   ]
  },
  {
   "cell_type": "markdown",
   "id": "b66da6f8-8095-47af-8cc2-190ceeb25e5c",
   "metadata": {},
   "source": [
    "## Probabilistic inference\n",
    "### Settings"
   ]
  },
  {
   "cell_type": "code",
   "execution_count": 10,
   "id": "2473f075-2614-4d26-9dc1-8cc32e62645e",
   "metadata": {},
   "outputs": [],
   "source": [
    "# Define meta model\n",
    "door_meta = @meta begin \n",
    "    h() -> Linearization(),\n",
    "\tg() -> Linearization()\n",
    "end;"
   ]
  },
  {
   "cell_type": "code",
   "execution_count": 11,
   "id": "dcd5f4f7-0fc2-4c99-8742-a41f2501ea3a",
   "metadata": {},
   "outputs": [
    {
     "data": {
      "text/plain": [
       "50"
      ]
     },
     "metadata": {},
     "output_type": "display_data"
    }
   ],
   "source": [
    "nr_steps = 50"
   ]
  },
  {
   "cell_type": "code",
   "execution_count": 12,
   "id": "70a478a8-01b6-4457-ad1c-0cb090a45ab0",
   "metadata": {},
   "outputs": [
    {
     "data": {
      "text/plain": [
       "1500"
      ]
     },
     "metadata": {},
     "output_type": "display_data"
    }
   ],
   "source": [
    "nr_iterations = 1500"
   ]
  },
  {
   "cell_type": "code",
   "execution_count": 13,
   "id": "b1a6c07b-5408-4c31-8f26-f90aad1d3d84",
   "metadata": {},
   "outputs": [],
   "source": [
    "# Define constant variables\n",
    "begin\n",
    "\tΔT = 1\n",
    "\tA = [1 ΔT 0 0; \n",
    "\t\t0 1 0 0; \n",
    "\t\t0 0 1 ΔT; \n",
    "\t\t0 0 0 1]\n",
    "\tB = [0 0; \n",
    "\t\tΔT 0; \n",
    "\t\t0 0; \n",
    "\t\t0 ΔT]\n",
    "\tC = [1 0 0 0; \n",
    "\t\t0 0 1 0]\n",
    "\tγ = 1\n",
    "end;"
   ]
  },
  {
   "cell_type": "code",
   "execution_count": 14,
   "id": "4e02415e-bbde-4487-9c48-9a42d331b377",
   "metadata": {},
   "outputs": [
    {
     "data": {
      "text/plain": [
       "Initial state: \n",
       "  q(dσ2) = PointMass{Int64}[PointMass{Int64}(1), PointMass{Int64}(1), PointMass{Int64}(1), PointMass{Int64}(1), PointMass{Int64}(1), PointMass{Int64}(1), PointMass{Int64}(1), PointMass{Int64}(1), PointMass{Int64}(1), PointMass{Int64}(1)  …  PointMass{Int64}(1), PointMass{Int64}(1), PointMass{Int64}(1), PointMass{Int64}(1), PointMass{Int64}(1), PointMass{Int64}(1), PointMass{Int64}(1), PointMass{Int64}(1), PointMass{Int64}(1), PointMass{Int64}(1)]\n",
       "  q(zσ2) = PointMass{Int64}[PointMass{Int64}(1) PointMass{Int64}(1) … PointMass{Int64}(1) PointMass{Int64}(1); PointMass{Int64}(1) PointMass{Int64}(1) … PointMass{Int64}(1) PointMass{Int64}(1); PointMass{Int64}(1) PointMass{Int64}(1) … PointMass{Int64}(1) PointMass{Int64}(1); PointMass{Int64}(1) PointMass{Int64}(1) … PointMass{Int64}(1) PointMass{Int64}(1)]\n",
       "  q(u) = PointMass{Int64}[PointMass{Int64}(0), PointMass{Int64}(0), PointMass{Int64}(0), PointMass{Int64}(0), PointMass{Int64}(0), PointMass{Int64}(0), PointMass{Int64}(0), PointMass{Int64}(0), PointMass{Int64}(0), PointMass{Int64}(0)  …  PointMass{Int64}(0), PointMass{Int64}(0), PointMass{Int64}(0), PointMass{Int64}(0), PointMass{Int64}(0), PointMass{Int64}(0), PointMass{Int64}(0), PointMass{Int64}(0), PointMass{Int64}(0), PointMass{Int64}(0)]\n",
       "  μ(x) = MvNormalMeanCovariance(\n",
       "μ: [0.09594578151450278, 0.524321081883697, 1.7343678004190364, -0.02329735466757117]\n",
       "Σ: [100.0 0.0 0.0 0.0; 0.0 100.0 0.0 0.0; 0.0 0.0 100.0 0.0; 0.0 0.0 0.0 100.0]\n",
       ")\n",
       "\n",
       "  μ(y) = MvNormalMeanCovariance(\n",
       "μ: [0.5799182655009307, 0.26245752383202764]\n",
       "Σ: [100.0 0.0; 0.0 100.0]\n",
       ")\n",
       "\n"
      ]
     },
     "metadata": {},
     "output_type": "display_data"
    }
   ],
   "source": [
    "# Initialize variables\n",
    "init = @initialization begin\n",
    "\n",
    "    q(dσ2) = repeat([PointMass(1)], nr_steps)\n",
    "    q(zσ2) = repeat([PointMass(1)], 4, nr_steps)\n",
    "    q(u) = repeat([PointMass(0)], nr_steps)\n",
    "\n",
    "\tμ(x) = MvNormalMeanCovariance(randn(4), 100I)\n",
    "\tμ(y) = MvNormalMeanCovariance(randn(2), 100I)\n",
    "\n",
    "end"
   ]
  },
  {
   "cell_type": "markdown",
   "id": "32818ec1-331a-4da6-a6a1-0f97a889b580",
   "metadata": {},
   "source": [
    "> **Note:** In RxInfer version 2, constants were specified using constvar or as keyword arguments in model functions, but in RxInfer versions 3 and 4, they are specified as arguments outside the function.\n",
    "Also, in RxInfer version 2, variables were initialized inside the inference function, but now we use the initialization macro instead."
   ]
  },
  {
   "cell_type": "markdown",
   "id": "6f27cfd8-a150-4862-abc6-883fae630827",
   "metadata": {},
   "source": [
    "### Inference"
   ]
  },
  {
   "cell_type": "code",
   "execution_count": 15,
   "id": "62654829-afbd-4572-9597-d6c6964379ba",
   "metadata": {},
   "outputs": [
    {
     "data": {
      "text/plain": [
       "Inference results:\n",
       "  Posteriors       | available for (d, y, zσ2, z, dσ2, u, x)\n"
      ]
     },
     "metadata": {},
     "output_type": "display_data"
    }
   ],
   "source": [
    "results = infer(\n",
    "\tmodel \t\t\t= door_model(nr_steps = nr_steps, γ = γ, A = A, B = B, C = C),\n",
    "\tdata  \t\t\t= ( goals = goals, ),\n",
    "\tinitialization  = init,\n",
    "\tconstraints \t= door_constraints(),\n",
    "\tmeta \t\t\t= door_meta,\n",
    "\titerations \t\t= nr_iterations,\n",
    "\treturnvars \t\t= KeepLast(), \n",
    "\toptions = ( limit_stack_depth = 300, )\n",
    ")"
   ]
  },
  {
   "cell_type": "markdown",
   "id": "6f3675c7-a326-433b-b42a-3cd28a10edd0",
   "metadata": {},
   "source": [
    "> **Note:** The syntax of this infer function (function name and initialization method) differs between RxInfer version 2 and 4. See http://docs.rxinfer.ml/stable/manuals/migration-guide-v2-v3/ ."
   ]
  },
  {
   "cell_type": "markdown",
   "id": "d4c7029a-e23a-4f9c-a533-56b3d5bdc747",
   "metadata": {},
   "source": [
    "## Results\n",
    "\n",
    "This section shows the results of inference."
   ]
  },
  {
   "cell_type": "code",
   "execution_count": 16,
   "id": "e6f72c55-fa9f-4c72-bd31-d412672de0df",
   "metadata": {},
   "outputs": [
    {
     "name": "stderr",
     "output_type": "stream",
     "text": [
      "┌ Info: Saved animation to /Users/bvdmitri/.julia/dev/RxInferExamples.jl/examples/Advanced Examples/Multi-agent Trajectory Planning/result.gif\n",
      "└ @ Plots /Users/bvdmitri/.julia/packages/Plots/Ec1L1/src/animation.jl:156\n"
     ]
    }
   ],
   "source": [
    "animation = @animate for t in 1:nr_steps\n",
    "\tplot(size = (0.8*600, 600), legend=false)\n",
    "\n",
    "\tplot!(\n",
    "\t\tmap(x -> mean(x)[1], results.posteriors[:y][1,1:t]),\n",
    "\t\tmap(x -> mean(x)[2], results.posteriors[:y][1,1:t]);\n",
    "\t\tcolor=\"red\", linestyle=:dash\n",
    "\t)\n",
    "\tplot!(\n",
    "\t\tmap(x -> mean(x)[1], results.posteriors[:y][2,1:t]),\n",
    "\t\tmap(x -> mean(x)[2], results.posteriors[:y][2,1:t]);\n",
    "\t\tcolor=\"blue\", linestyle=:dash\n",
    "\t)\n",
    "\tplot!(\n",
    "\t\tmap(x -> mean(x)[1], results.posteriors[:y][3,1:t]),\n",
    "\t\tmap(x -> mean(x)[2], results.posteriors[:y][3,1:t]);\n",
    "\t\tcolor=\"orange\", linestyle=:dash\n",
    "\t)\n",
    "\tplot!(\n",
    "\t\tmap(x -> mean(x)[1], results.posteriors[:y][4,1:t]),\n",
    "\t\tmap(x -> mean(x)[2], results.posteriors[:y][4,1:t]);\n",
    "\t\tcolor=\"green\", linestyle=:dash\n",
    "\t)\n",
    "\n",
    "\tdraw_circle!(mean(results.posteriors[:y][1,t]), radius; color=\"red\", label=\"\")\n",
    "\tdraw_circle!(mean(results.posteriors[:y][2,t]), radius; color=\"blue\", label=\"\")\n",
    "\tdraw_circle!(mean(results.posteriors[:y][3,t]), radius; color=\"orange\", label=\"\")\n",
    "\tdraw_circle!(mean(results.posteriors[:y][4,t]), radius; color=\"green\", label=\"\")\n",
    "\n",
    "\tdraw_rectangle!(environment[1]; label=\"\", color=\"black\", alpha=0.5)\n",
    "\tdraw_rectangle!(environment[2]; label=\"\", color=\"black\", alpha=0.5)\n",
    "\n",
    "\tscatter!([goals[2,1][1]], [goals[2,1][3]], color=\"red\", label=\"\", marker=:star5, markersize=10)\n",
    "\tscatter!([goals[2,2][1]], [goals[2,2][3]], color=\"blue\", label=\"\", marker=:star5, markersize=10)\n",
    "\tscatter!([goals[2,3][1]], [goals[2,3][3]], color=\"orange\", label=\"\", marker=:star5, markersize=10)\n",
    "\tscatter!([goals[2,4][1]], [goals[2,4][3]], color=\"green\", label=\"\", marker=:star5, markersize=10)\n",
    "\t\n",
    "\txlims!(-20, 20)\n",
    "\tylims!(-25, 25)\n",
    "\t\t\n",
    "end\n",
    "\n",
    "# assign the path to save the image\n",
    "gif(animation, \"result.gif\", fps = 15);"
   ]
  },
  {
   "cell_type": "markdown",
   "id": "8f8206b8",
   "metadata": {},
   "source": [
    "![](result.gif)"
   ]
  }
 ],
 "metadata": {
  "kernelspec": {
   "display_name": "Julia 1.11.3",
   "language": "julia",
   "name": "julia-1.11"
  },
  "language_info": {
   "file_extension": ".jl",
   "mimetype": "application/julia",
   "name": "julia",
   "version": "1.11.3"
  }
 },
 "nbformat": 4,
 "nbformat_minor": 5
}
